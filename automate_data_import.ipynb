{
  "metadata": {
    "kernelspec": {
      "name": "python3",
      "display_name": "Python 3",
      "language": "python"
    },
    "language_info": {
      "codemirror_mode": {
        "name": "ipython",
        "version": 3
      },
      "file_extension": ".py",
      "mimetype": "text/x-python",
      "name": "python",
      "nbconvert_exporter": "python",
      "pygments_lexer": "ipython3",
      "version": "3.10.14"
    },
    "kaggle": {
      "accelerator": "nvidiaTeslaT4",
      "dataSources": [
        {
          "sourceId": 11372,
          "sourceType": "modelInstanceVersion",
          "modelInstanceId": 5388,
          "modelId": 3533
        }
      ],
      "dockerImageVersionId": 30786,
      "isInternetEnabled": true,
      "language": "python",
      "sourceType": "notebook",
      "isGpuEnabled": true
    },
    "colab": {
      "name": "automate_data_import",
      "provenance": [],
      "include_colab_link": true
    }
  },
  "nbformat_minor": 0,
  "nbformat": 4,
  "cells": [
    {
      "cell_type": "markdown",
      "metadata": {
        "id": "view-in-github",
        "colab_type": "text"
      },
      "source": [
        "<a href=\"https://colab.research.google.com/github/arnabksarkar/LLMFinetuning/blob/dev/automate_data_import.ipynb\" target=\"_parent\"><img src=\"https://colab.research.google.com/assets/colab-badge.svg\" alt=\"Open In Colab\"/></a>"
      ]
    },
    {
      "source": [
        "\n",
        "# IMPORTANT: RUN THIS CELL IN ORDER TO IMPORT YOUR KAGGLE DATA SOURCES\n",
        "# TO THE CORRECT LOCATION (/kaggle/input) IN YOUR NOTEBOOK,\n",
        "# THEN FEEL FREE TO DELETE THIS CELL.\n",
        "# NOTE: THIS NOTEBOOK ENVIRONMENT DIFFERS FROM KAGGLE'S PYTHON\n",
        "# ENVIRONMENT SO THERE MAY BE MISSING LIBRARIES USED BY YOUR\n",
        "# NOTEBOOK.\n",
        "\n",
        "import os\n",
        "import sys\n",
        "from tempfile import NamedTemporaryFile\n",
        "from urllib.request import urlopen\n",
        "from urllib.parse import unquote, urlparse\n",
        "from urllib.error import HTTPError\n",
        "from zipfile import ZipFile\n",
        "import tarfile\n",
        "import shutil\n",
        "\n",
        "CHUNK_SIZE = 40960\n",
        "DATA_SOURCE_MAPPING = 'gemma/keras/gemma_instruct_2b_en/2:https%3A%2F%2Fstorage.googleapis.com%2Fkaggle-models-data%2F5388%2F11372%2Fbundle%2Farchive.tar.gz%3FX-Goog-Algorithm%3DGOOG4-RSA-SHA256%26X-Goog-Credential%3Dgcp-kaggle-com%2540kaggle-161607.iam.gserviceaccount.com%252F20241012%252Fauto%252Fstorage%252Fgoog4_request%26X-Goog-Date%3D20241012T154755Z%26X-Goog-Expires%3D259200%26X-Goog-SignedHeaders%3Dhost%26X-Goog-Signature%3D580f0d0d884b6dfb172aa9e519e6312f92cea0363a15fd5debcecc5a78a91852053f96a989f95c43ebf589780d8ff656f01d79a3780afe0e111b4e3b8d65075bb81c7037148d604e54c3b3f0988979892b617f1481e33129c97a2ab41b347316a834843f718cbf94f1cdf4015e1723659bd379f45585645435a49a09cc2a7013d57bbb2fc311339b3d9fd6f1883847bdc525be2985d539979524871984eac1427a808a29dc0058456899945202d98c669968a9e5063a29258a2ead2550c3db2acf868916c24849bed3a55879442736d84917556a5f13f5b8ccd7d28ed919641ffa4f88abbb8bf30f49101def7cd78f8549ff4d95cf752a1570c6b3d268ed9e8c'\n",
        "\n",
        "KAGGLE_INPUT_PATH='/kaggle/input'\n",
        "KAGGLE_WORKING_PATH='/kaggle/working'\n",
        "KAGGLE_SYMLINK='kaggle'\n",
        "\n",
        "!umount /kaggle/input/ 2> /dev/null\n",
        "shutil.rmtree('/kaggle/input', ignore_errors=True)\n",
        "os.makedirs(KAGGLE_INPUT_PATH, 0o777, exist_ok=True)\n",
        "os.makedirs(KAGGLE_WORKING_PATH, 0o777, exist_ok=True)\n",
        "\n",
        "try:\n",
        "  os.symlink(KAGGLE_INPUT_PATH, os.path.join(\"..\", 'input'), target_is_directory=True)\n",
        "except FileExistsError:\n",
        "  pass\n",
        "try:\n",
        "  os.symlink(KAGGLE_WORKING_PATH, os.path.join(\"..\", 'working'), target_is_directory=True)\n",
        "except FileExistsError:\n",
        "  pass\n",
        "\n",
        "for data_source_mapping in DATA_SOURCE_MAPPING.split(','):\n",
        "    directory, download_url_encoded = data_source_mapping.split(':')\n",
        "    download_url = unquote(download_url_encoded)\n",
        "    filename = urlparse(download_url).path\n",
        "    destination_path = os.path.join(KAGGLE_INPUT_PATH, directory)\n",
        "    try:\n",
        "        with urlopen(download_url) as fileres, NamedTemporaryFile() as tfile:\n",
        "            total_length = fileres.headers['content-length']\n",
        "            print(f'Downloading {directory}, {total_length} bytes compressed')\n",
        "            dl = 0\n",
        "            data = fileres.read(CHUNK_SIZE)\n",
        "            while len(data) > 0:\n",
        "                dl += len(data)\n",
        "                tfile.write(data)\n",
        "                done = int(50 * dl / int(total_length))\n",
        "                sys.stdout.write(f\"\\r[{'=' * done}{' ' * (50-done)}] {dl} bytes downloaded\")\n",
        "                sys.stdout.flush()\n",
        "                data = fileres.read(CHUNK_SIZE)\n",
        "            if filename.endswith('.zip'):\n",
        "              with ZipFile(tfile) as zfile:\n",
        "                zfile.extractall(destination_path)\n",
        "            else:\n",
        "              with tarfile.open(tfile.name) as tarfile:\n",
        "                tarfile.extractall(destination_path)\n",
        "            print(f'\\nDownloaded and uncompressed: {directory}')\n",
        "    except HTTPError as e:\n",
        "        print(f'Failed to load (likely expired) {download_url} to path {destination_path}')\n",
        "        continue\n",
        "    except OSError as e:\n",
        "        print(f'Failed to load {download_url} to path {destination_path}')\n",
        "        continue\n",
        "\n",
        "print('Data source import complete.')\n"
      ],
      "metadata": {
        "id": "fUg5FUkZakAK"
      },
      "cell_type": "code",
      "outputs": [],
      "execution_count": null
    },
    {
      "cell_type": "markdown",
      "source": [
        "## Q&A Generation Version"
      ],
      "metadata": {
        "id": "Nqe4yhOAakAM"
      }
    },
    {
      "cell_type": "code",
      "source": [
        "# from openai import OpenAI\n",
        "\n",
        "import pandas as pd\n",
        "\n",
        "# import openai\n",
        "\n",
        "import os\n",
        "\n",
        "import glob\n"
      ],
      "metadata": {
        "trusted": true,
        "execution": {
          "iopub.status.busy": "2024-10-12T03:10:34.951694Z",
          "iopub.execute_input": "2024-10-12T03:10:34.952484Z",
          "iopub.status.idle": "2024-10-12T03:10:35.357389Z",
          "shell.execute_reply.started": "2024-10-12T03:10:34.952431Z",
          "shell.execute_reply": "2024-10-12T03:10:35.356237Z"
        },
        "id": "H4o8s2bpakAN"
      },
      "outputs": [],
      "execution_count": null
    },
    {
      "cell_type": "code",
      "source": [
        "%load_ext dotenv\n",
        "\n",
        "%dotenv"
      ],
      "metadata": {
        "trusted": true,
        "execution": {
          "iopub.status.busy": "2024-10-12T01:02:36.64882Z",
          "iopub.execute_input": "2024-10-12T01:02:36.649216Z",
          "iopub.status.idle": "2024-10-12T01:02:36.67079Z",
          "shell.execute_reply.started": "2024-10-12T01:02:36.649178Z",
          "shell.execute_reply": "2024-10-12T01:02:36.669883Z"
        },
        "id": "JCAF8T9SakAN",
        "outputId": "086fd9a3-cf14-4578-be72-899294bde744"
      },
      "outputs": [
        {
          "name": "stdout",
          "text": "cannot find .env file\n",
          "output_type": "stream"
        }
      ],
      "execution_count": null
    },
    {
      "cell_type": "code",
      "source": [
        "!pip install langchain langchain-google-vertexai"
      ],
      "metadata": {
        "trusted": true,
        "execution": {
          "iopub.status.busy": "2024-10-12T03:08:44.351803Z",
          "iopub.execute_input": "2024-10-12T03:08:44.352306Z",
          "iopub.status.idle": "2024-10-12T03:08:58.34862Z",
          "shell.execute_reply.started": "2024-10-12T03:08:44.352259Z",
          "shell.execute_reply": "2024-10-12T03:08:58.347126Z"
        },
        "id": "wnSjojDRakAN",
        "outputId": "d9f28d37-bf4c-45e5-847d-24e0d3e301da"
      },
      "outputs": [
        {
          "name": "stdout",
          "text": "Requirement already satisfied: langchain in /opt/conda/lib/python3.10/site-packages (0.3.3)\nRequirement already satisfied: langchain-google-vertexai in /opt/conda/lib/python3.10/site-packages (2.0.5)\nRequirement already satisfied: PyYAML>=5.3 in /opt/conda/lib/python3.10/site-packages (from langchain) (6.0.2)\nRequirement already satisfied: SQLAlchemy<3,>=1.4 in /opt/conda/lib/python3.10/site-packages (from langchain) (2.0.30)\nRequirement already satisfied: aiohttp<4.0.0,>=3.8.3 in /opt/conda/lib/python3.10/site-packages (from langchain) (3.9.5)\nRequirement already satisfied: async-timeout<5.0.0,>=4.0.0 in /opt/conda/lib/python3.10/site-packages (from langchain) (4.0.3)\nRequirement already satisfied: langchain-core<0.4.0,>=0.3.10 in /opt/conda/lib/python3.10/site-packages (from langchain) (0.3.10)\nRequirement already satisfied: langchain-text-splitters<0.4.0,>=0.3.0 in /opt/conda/lib/python3.10/site-packages (from langchain) (0.3.0)\nRequirement already satisfied: langsmith<0.2.0,>=0.1.17 in /opt/conda/lib/python3.10/site-packages (from langchain) (0.1.134)\nRequirement already satisfied: numpy<2,>=1 in /opt/conda/lib/python3.10/site-packages (from langchain) (1.26.4)\nRequirement already satisfied: pydantic<3.0.0,>=2.7.4 in /opt/conda/lib/python3.10/site-packages (from langchain) (2.9.2)\nRequirement already satisfied: requests<3,>=2 in /opt/conda/lib/python3.10/site-packages (from langchain) (2.32.3)\nRequirement already satisfied: tenacity!=8.4.0,<9.0.0,>=8.1.0 in /opt/conda/lib/python3.10/site-packages (from langchain) (8.3.0)\nRequirement already satisfied: google-cloud-aiplatform<2.0.0,>=1.69.0 in /opt/conda/lib/python3.10/site-packages (from langchain-google-vertexai) (1.70.0)\nRequirement already satisfied: google-cloud-storage<3.0.0,>=2.18.0 in /opt/conda/lib/python3.10/site-packages (from langchain-google-vertexai) (2.18.2)\nRequirement already satisfied: httpx<0.28.0,>=0.27.0 in /opt/conda/lib/python3.10/site-packages (from langchain-google-vertexai) (0.27.0)\nRequirement already satisfied: httpx-sse<0.5.0,>=0.4.0 in /opt/conda/lib/python3.10/site-packages (from langchain-google-vertexai) (0.4.0)\nRequirement already satisfied: aiosignal>=1.1.2 in /opt/conda/lib/python3.10/site-packages (from aiohttp<4.0.0,>=3.8.3->langchain) (1.3.1)\nRequirement already satisfied: attrs>=17.3.0 in /opt/conda/lib/python3.10/site-packages (from aiohttp<4.0.0,>=3.8.3->langchain) (23.2.0)\nRequirement already satisfied: frozenlist>=1.1.1 in /opt/conda/lib/python3.10/site-packages (from aiohttp<4.0.0,>=3.8.3->langchain) (1.4.1)\nRequirement already satisfied: multidict<7.0,>=4.5 in /opt/conda/lib/python3.10/site-packages (from aiohttp<4.0.0,>=3.8.3->langchain) (6.0.5)\nRequirement already satisfied: yarl<2.0,>=1.0 in /opt/conda/lib/python3.10/site-packages (from aiohttp<4.0.0,>=3.8.3->langchain) (1.9.4)\nRequirement already satisfied: google-api-core!=2.0.*,!=2.1.*,!=2.2.*,!=2.3.*,!=2.4.*,!=2.5.*,!=2.6.*,!=2.7.*,<3.0.0dev,>=1.34.1 in /opt/conda/lib/python3.10/site-packages (from google-api-core[grpc]!=2.0.*,!=2.1.*,!=2.2.*,!=2.3.*,!=2.4.*,!=2.5.*,!=2.6.*,!=2.7.*,<3.0.0dev,>=1.34.1->google-cloud-aiplatform<2.0.0,>=1.69.0->langchain-google-vertexai) (2.20.0)\nRequirement already satisfied: google-auth<3.0.0dev,>=2.14.1 in /opt/conda/lib/python3.10/site-packages (from google-cloud-aiplatform<2.0.0,>=1.69.0->langchain-google-vertexai) (2.30.0)\nRequirement already satisfied: proto-plus<2.0.0dev,>=1.22.3 in /opt/conda/lib/python3.10/site-packages (from google-cloud-aiplatform<2.0.0,>=1.69.0->langchain-google-vertexai) (1.23.0)\nRequirement already satisfied: protobuf!=4.21.0,!=4.21.1,!=4.21.2,!=4.21.3,!=4.21.4,!=4.21.5,<6.0.0dev,>=3.20.2 in /opt/conda/lib/python3.10/site-packages (from google-cloud-aiplatform<2.0.0,>=1.69.0->langchain-google-vertexai) (3.20.3)\nRequirement already satisfied: packaging>=14.3 in /opt/conda/lib/python3.10/site-packages (from google-cloud-aiplatform<2.0.0,>=1.69.0->langchain-google-vertexai) (24.1)\nRequirement already satisfied: google-cloud-bigquery!=3.20.0,<4.0.0dev,>=1.15.0 in /opt/conda/lib/python3.10/site-packages (from google-cloud-aiplatform<2.0.0,>=1.69.0->langchain-google-vertexai) (3.26.0)\nRequirement already satisfied: google-cloud-resource-manager<3.0.0dev,>=1.3.3 in /opt/conda/lib/python3.10/site-packages (from google-cloud-aiplatform<2.0.0,>=1.69.0->langchain-google-vertexai) (1.12.3)\nRequirement already satisfied: shapely<3.0.0dev in /opt/conda/lib/python3.10/site-packages (from google-cloud-aiplatform<2.0.0,>=1.69.0->langchain-google-vertexai) (1.8.5.post1)\nRequirement already satisfied: docstring-parser<1 in /opt/conda/lib/python3.10/site-packages (from google-cloud-aiplatform<2.0.0,>=1.69.0->langchain-google-vertexai) (0.16)\nRequirement already satisfied: google-cloud-core<3.0dev,>=2.3.0 in /opt/conda/lib/python3.10/site-packages (from google-cloud-storage<3.0.0,>=2.18.0->langchain-google-vertexai) (2.4.1)\nRequirement already satisfied: google-resumable-media>=2.7.2 in /opt/conda/lib/python3.10/site-packages (from google-cloud-storage<3.0.0,>=2.18.0->langchain-google-vertexai) (2.7.2)\nRequirement already satisfied: google-crc32c<2.0dev,>=1.0 in /opt/conda/lib/python3.10/site-packages (from google-cloud-storage<3.0.0,>=2.18.0->langchain-google-vertexai) (1.5.0)\nRequirement already satisfied: anyio in /opt/conda/lib/python3.10/site-packages (from httpx<0.28.0,>=0.27.0->langchain-google-vertexai) (4.4.0)\nRequirement already satisfied: certifi in /opt/conda/lib/python3.10/site-packages (from httpx<0.28.0,>=0.27.0->langchain-google-vertexai) (2024.8.30)\nRequirement already satisfied: httpcore==1.* in /opt/conda/lib/python3.10/site-packages (from httpx<0.28.0,>=0.27.0->langchain-google-vertexai) (1.0.5)\nRequirement already satisfied: idna in /opt/conda/lib/python3.10/site-packages (from httpx<0.28.0,>=0.27.0->langchain-google-vertexai) (3.7)\nRequirement already satisfied: sniffio in /opt/conda/lib/python3.10/site-packages (from httpx<0.28.0,>=0.27.0->langchain-google-vertexai) (1.3.1)\nRequirement already satisfied: h11<0.15,>=0.13 in /opt/conda/lib/python3.10/site-packages (from httpcore==1.*->httpx<0.28.0,>=0.27.0->langchain-google-vertexai) (0.14.0)\nRequirement already satisfied: jsonpatch<2.0,>=1.33 in /opt/conda/lib/python3.10/site-packages (from langchain-core<0.4.0,>=0.3.10->langchain) (1.33)\nRequirement already satisfied: typing-extensions>=4.7 in /opt/conda/lib/python3.10/site-packages (from langchain-core<0.4.0,>=0.3.10->langchain) (4.12.2)\nRequirement already satisfied: orjson<4.0.0,>=3.9.14 in /opt/conda/lib/python3.10/site-packages (from langsmith<0.2.0,>=0.1.17->langchain) (3.10.4)\nRequirement already satisfied: requests-toolbelt<2.0.0,>=1.0.0 in /opt/conda/lib/python3.10/site-packages (from langsmith<0.2.0,>=0.1.17->langchain) (1.0.0)\nRequirement already satisfied: annotated-types>=0.6.0 in /opt/conda/lib/python3.10/site-packages (from pydantic<3.0.0,>=2.7.4->langchain) (0.7.0)\nRequirement already satisfied: pydantic-core==2.23.4 in /opt/conda/lib/python3.10/site-packages (from pydantic<3.0.0,>=2.7.4->langchain) (2.23.4)\nRequirement already satisfied: charset-normalizer<4,>=2 in /opt/conda/lib/python3.10/site-packages (from requests<3,>=2->langchain) (3.3.2)\nRequirement already satisfied: urllib3<3,>=1.21.1 in /opt/conda/lib/python3.10/site-packages (from requests<3,>=2->langchain) (1.26.18)\nRequirement already satisfied: greenlet!=0.4.17 in /opt/conda/lib/python3.10/site-packages (from SQLAlchemy<3,>=1.4->langchain) (3.0.3)\nRequirement already satisfied: googleapis-common-protos<2.0.dev0,>=1.56.2 in /opt/conda/lib/python3.10/site-packages (from google-api-core!=2.0.*,!=2.1.*,!=2.2.*,!=2.3.*,!=2.4.*,!=2.5.*,!=2.6.*,!=2.7.*,<3.0.0dev,>=1.34.1->google-api-core[grpc]!=2.0.*,!=2.1.*,!=2.2.*,!=2.3.*,!=2.4.*,!=2.5.*,!=2.6.*,!=2.7.*,<3.0.0dev,>=1.34.1->google-cloud-aiplatform<2.0.0,>=1.69.0->langchain-google-vertexai) (1.63.1)\nRequirement already satisfied: grpcio<2.0dev,>=1.33.2 in /opt/conda/lib/python3.10/site-packages (from google-api-core[grpc]!=2.0.*,!=2.1.*,!=2.2.*,!=2.3.*,!=2.4.*,!=2.5.*,!=2.6.*,!=2.7.*,<3.0.0dev,>=1.34.1->google-cloud-aiplatform<2.0.0,>=1.69.0->langchain-google-vertexai) (1.62.2)\nRequirement already satisfied: grpcio-status<2.0.dev0,>=1.33.2 in /opt/conda/lib/python3.10/site-packages (from google-api-core[grpc]!=2.0.*,!=2.1.*,!=2.2.*,!=2.3.*,!=2.4.*,!=2.5.*,!=2.6.*,!=2.7.*,<3.0.0dev,>=1.34.1->google-cloud-aiplatform<2.0.0,>=1.69.0->langchain-google-vertexai) (1.48.0)\nRequirement already satisfied: cachetools<6.0,>=2.0.0 in /opt/conda/lib/python3.10/site-packages (from google-auth<3.0.0dev,>=2.14.1->google-cloud-aiplatform<2.0.0,>=1.69.0->langchain-google-vertexai) (4.2.4)\nRequirement already satisfied: pyasn1-modules>=0.2.1 in /opt/conda/lib/python3.10/site-packages (from google-auth<3.0.0dev,>=2.14.1->google-cloud-aiplatform<2.0.0,>=1.69.0->langchain-google-vertexai) (0.4.0)\nRequirement already satisfied: rsa<5,>=3.1.4 in /opt/conda/lib/python3.10/site-packages (from google-auth<3.0.0dev,>=2.14.1->google-cloud-aiplatform<2.0.0,>=1.69.0->langchain-google-vertexai) (4.9)\nRequirement already satisfied: python-dateutil<3.0dev,>=2.7.3 in /opt/conda/lib/python3.10/site-packages (from google-cloud-bigquery!=3.20.0,<4.0.0dev,>=1.15.0->google-cloud-aiplatform<2.0.0,>=1.69.0->langchain-google-vertexai) (2.9.0.post0)\nRequirement already satisfied: grpc-google-iam-v1<1.0.0dev,>=0.12.4 in /opt/conda/lib/python3.10/site-packages (from google-cloud-resource-manager<3.0.0dev,>=1.3.3->google-cloud-aiplatform<2.0.0,>=1.69.0->langchain-google-vertexai) (0.12.7)\nRequirement already satisfied: jsonpointer>=1.9 in /opt/conda/lib/python3.10/site-packages (from jsonpatch<2.0,>=1.33->langchain-core<0.4.0,>=0.3.10->langchain) (2.4)\nRequirement already satisfied: exceptiongroup>=1.0.2 in /opt/conda/lib/python3.10/site-packages (from anyio->httpx<0.28.0,>=0.27.0->langchain-google-vertexai) (1.2.0)\nRequirement already satisfied: pyasn1<0.7.0,>=0.4.6 in /opt/conda/lib/python3.10/site-packages (from pyasn1-modules>=0.2.1->google-auth<3.0.0dev,>=2.14.1->google-cloud-aiplatform<2.0.0,>=1.69.0->langchain-google-vertexai) (0.6.0)\nRequirement already satisfied: six>=1.5 in /opt/conda/lib/python3.10/site-packages (from python-dateutil<3.0dev,>=2.7.3->google-cloud-bigquery!=3.20.0,<4.0.0dev,>=1.15.0->google-cloud-aiplatform<2.0.0,>=1.69.0->langchain-google-vertexai) (1.16.0)\n",
          "output_type": "stream"
        }
      ],
      "execution_count": null
    },
    {
      "cell_type": "code",
      "source": [
        "os.environ[\"KERAS_BACKEND\"] = \"jax\"  # Or \"torch\" or \"tensorflow\".\n",
        "\n",
        "# Avoid memory fragmentation on JAX backend.\n",
        "\n",
        "os.environ[\"XLA_PYTHON_CLIENT_MEM_FRACTION\"]=\"1.00\""
      ],
      "metadata": {
        "trusted": true,
        "execution": {
          "iopub.status.busy": "2024-10-12T03:11:00.352582Z",
          "iopub.execute_input": "2024-10-12T03:11:00.35362Z",
          "iopub.status.idle": "2024-10-12T03:11:00.358164Z",
          "shell.execute_reply.started": "2024-10-12T03:11:00.353575Z",
          "shell.execute_reply": "2024-10-12T03:11:00.357174Z"
        },
        "id": "I3DM0R7nakAN"
      },
      "outputs": [],
      "execution_count": null
    },
    {
      "cell_type": "markdown",
      "source": [
        "# Import packages\n",
        "\n",
        "Import Keras and KerasNLP."
      ],
      "metadata": {
        "id": "xDmh75u_akAN"
      }
    },
    {
      "cell_type": "markdown",
      "source": [
        "**Note - If you are on Mac M, please use conda-forge to install the jax libraries**"
      ],
      "metadata": {
        "id": "BgIRIihOakAO"
      }
    },
    {
      "cell_type": "code",
      "source": [
        "import keras\n",
        "\n",
        "import keras_nlp"
      ],
      "metadata": {
        "trusted": true,
        "execution": {
          "iopub.status.busy": "2024-10-12T03:11:05.212665Z",
          "iopub.execute_input": "2024-10-12T03:11:05.213563Z",
          "iopub.status.idle": "2024-10-12T03:11:26.187337Z",
          "shell.execute_reply.started": "2024-10-12T03:11:05.213522Z",
          "shell.execute_reply": "2024-10-12T03:11:26.186441Z"
        },
        "id": "-icnhg2fakAO"
      },
      "outputs": [],
      "execution_count": null
    },
    {
      "cell_type": "code",
      "source": [
        "from langchain_google_vertexai import GemmaLocalKaggle"
      ],
      "metadata": {
        "trusted": true,
        "execution": {
          "iopub.status.busy": "2024-10-12T03:13:15.086785Z",
          "iopub.execute_input": "2024-10-12T03:13:15.087215Z",
          "iopub.status.idle": "2024-10-12T03:13:35.043816Z",
          "shell.execute_reply.started": "2024-10-12T03:13:15.087177Z",
          "shell.execute_reply": "2024-10-12T03:13:35.042998Z"
        },
        "id": "chRk-GmUakAO"
      },
      "outputs": [],
      "execution_count": null
    },
    {
      "cell_type": "code",
      "source": [
        "= GemmaLocalKaggle(model_name=\"gemma_instruct_2b_en\", keras_backend=\"jax\")"
      ],
      "metadata": {
        "trusted": true,
        "execution": {
          "iopub.status.busy": "2024-10-12T03:15:06.268178Z",
          "iopub.execute_input": "2024-10-12T03:15:06.269262Z",
          "iopub.status.idle": "2024-10-12T03:16:12.911132Z",
          "shell.execute_reply.started": "2024-10-12T03:15:06.269214Z",
          "shell.execute_reply": "2024-10-12T03:16:12.910242Z"
        },
        "id": "waF5ewXZakAO",
        "outputId": "cd094a15-e09b-4b02-befe-9b4a424147a4"
      },
      "outputs": [
        {
          "name": "stderr",
          "text": "normalizer.cc(51) LOG(INFO) precompiled_charsmap is empty. use identity normalization.\n",
          "output_type": "stream"
        }
      ],
      "execution_count": null
    },
    {
      "cell_type": "markdown",
      "source": [
        "# Generate QA function\n",
        "\n",
        "Create the Question and answer function"
      ],
      "metadata": {
        "id": "nV11NenRakAO"
      }
    },
    {
      "cell_type": "code",
      "source": [
        "def generate_question_and_answer(text_chunk, gemma_llm):\n",
        "\n",
        "\n",
        "\n",
        "    # Define the question prompt\n",
        "\n",
        "    question_prompt = f'''You are a Professor writing an exam.\n",
        "\n",
        "                        Using the provided context: '{text_chunk}',\n",
        "\n",
        "                        formulate a single question that captures an important fact or insight from the context,\n",
        "\n",
        "                        e.g. 'Who was Aristophanes?' or 'What are latifundia?'\n",
        "\n",
        "                          or 'What is ostracism?' or 'Where did Xerxes cross the Hellespont?'\n",
        "\n",
        "                          or 'When did the battle of Platea occur?' or 'Why did Christianity appeal to slaves?'\n",
        "\n",
        "                          or 'How did Athens stop class warfare during the Periclean age?'.\n",
        "\n",
        "                        Restrict the question to the context information provided.'''\n",
        "\n",
        "\n",
        "\n",
        "    # Generate a question unconditionally\n",
        "    question_response = gemma_llm.invoke(question_prompt, max_tokens=100)\n",
        "    question = question_response\n",
        "\n",
        "\n",
        "    # Generate an answer unconditionally\n",
        "    answer_prompt = f'''Given the context: '{text_chunk}',\n",
        "            give a detailed, complete answer to the question: '{question}'.\n",
        "            Use only the context to answer, do not give references.\n",
        "            Simply answer the question without editorial comments.'''\n",
        "\n",
        "    answer_response = gemma_llm.invoke(answer_prompt, max_tokens=100)\n",
        "    answer = answer_response.strip()\n",
        "\n",
        "    return question, answer"
      ],
      "metadata": {
        "trusted": true,
        "execution": {
          "iopub.status.busy": "2024-10-12T03:22:48.72467Z",
          "iopub.execute_input": "2024-10-12T03:22:48.725607Z",
          "iopub.status.idle": "2024-10-12T03:22:48.732539Z",
          "shell.execute_reply.started": "2024-10-12T03:22:48.725563Z",
          "shell.execute_reply": "2024-10-12T03:22:48.731509Z"
        },
        "id": "LGyrIrrkakAO"
      },
      "outputs": [],
      "execution_count": null
    },
    {
      "cell_type": "code",
      "source": [
        "text_context = '''West Bengal is on the eastern neck of India, stretching from the Himalayas in the north to the Bay of Bengal in the south.\n",
        "                It lies between 85 degree 50 minutes and 89 degree 50 minutes east longitude, and 21 degrees 25 minutes and 27 degrees 13 minutes north latitude.[1]\n",
        "                The state has a total area of 88,752 square kilometres (34,267 sq mi).[2] With Bangladesh on its eastern border, the state forms the ethno-linguistic region of Bengal. To its northeast lie the states of Assam and Sikkim and the country of Bhutan.\n",
        "                To its southwest is the state of Odisha. To the west, it borders the states of Jharkhand and Bihar, and to the northwest, Nepal.\n",
        "                The capital of the state is Kolkata, the third-largest urban agglomeration and the seventh-largest city in India.'''"
      ],
      "metadata": {
        "trusted": true,
        "execution": {
          "iopub.status.busy": "2024-10-12T03:19:04.583025Z",
          "iopub.execute_input": "2024-10-12T03:19:04.58344Z",
          "iopub.status.idle": "2024-10-12T03:19:04.58856Z",
          "shell.execute_reply.started": "2024-10-12T03:19:04.583401Z",
          "shell.execute_reply": "2024-10-12T03:19:04.587586Z"
        },
        "id": "Is1alzkeakAO"
      },
      "outputs": [],
      "execution_count": null
    },
    {
      "cell_type": "code",
      "source": [
        "generate_question_and_answer(text_context,)\n"
      ],
      "metadata": {
        "trusted": true,
        "execution": {
          "iopub.status.busy": "2024-10-12T03:22:53.146998Z",
          "iopub.execute_input": "2024-10-12T03:22:53.147436Z",
          "iopub.status.idle": "2024-10-12T03:22:53.492155Z",
          "shell.execute_reply.started": "2024-10-12T03:22:53.147394Z",
          "shell.execute_reply": "2024-10-12T03:22:53.491174Z"
        },
        "id": "KIN8ZQNuakAO",
        "outputId": "830f1fb9-d852-475b-f9d8-2e9d0cbcf737"
      },
      "outputs": [
        {
          "execution_count": 16,
          "output_type": "execute_result",
          "data": {
            "text/plain": "(\"You are a Professor writing an exam. \\n\\n                        Using the provided context: 'West Bengal is on the eastern neck of India, stretching from the Himalayas in the north to the Bay of Bengal in the south. \\n                It lies between 85 degree 50 minutes and 89 degree 50 minutes east longitude, and 21 degrees 25 minutes and 27 degrees 13 minutes north latitude.[1] \\n                The state has a\",\n \"Given the context: 'West Bengal is on the eastern neck of India, stretching from the Himalayas in the north to the Bay of Bengal in the south. \\n                It lies between 85 degree 50 minutes and 89 degree 50 minutes east longitude, and 21 degrees 25 minutes and 27 degrees 13 minutes north latitude.[1] \\n                The state has a total area of 88,752 square kilometres\")"
          },
          "metadata": {}
        }
      ],
      "execution_count": null
    }
  ]
}