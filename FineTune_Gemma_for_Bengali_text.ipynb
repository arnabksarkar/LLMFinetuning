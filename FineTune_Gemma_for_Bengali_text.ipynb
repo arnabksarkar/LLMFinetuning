{
  "metadata": {
    "kernelspec": {
      "display_name": "Python 3",
      "name": "python3"
    },
    "language_info": {
      "name": "python",
      "version": "3.10.12",
      "mimetype": "text/x-python",
      "codemirror_mode": {
        "name": "ipython",
        "version": 3
      },
      "pygments_lexer": "ipython3",
      "nbconvert_exporter": "python",
      "file_extension": ".py"
    },
    "kaggle": {
      "accelerator": "nvidiaTeslaT4",
      "dataSources": [
        {
          "sourceType": "competition",
          "sourceId": 85416,
          "databundleVersionId": 9690815
        },
        {
          "sourceType": "datasetVersion",
          "sourceId": 10465725,
          "datasetId": 6449796,
          "databundleVersionId": 10788828
        },
        {
          "sourceType": "modelInstanceVersion",
          "sourceId": 85986,
          "databundleVersionId": 9247152,
          "modelInstanceId": 72246
        }
      ],
      "dockerImageVersionId": 30822,
      "isInternetEnabled": true,
      "language": "python",
      "sourceType": "notebook",
      "isGpuEnabled": true
    },
    "colab": {
      "name": "FineTune Gemma for Bengali text",
      "provenance": [],
      "toc_visible": true,
      "gpuType": "T4",
      "include_colab_link": true
    },
    "accelerator": "GPU",
    "widgets": {
      "application/vnd.jupyter.widget-state+json": {
        "ef5e6647aeb54173a64800455f399acc": {
          "model_module": "@jupyter-widgets/controls",
          "model_name": "VBoxModel",
          "model_module_version": "1.5.0",
          "state": {
            "_dom_classes": [],
            "_model_module": "@jupyter-widgets/controls",
            "_model_module_version": "1.5.0",
            "_model_name": "VBoxModel",
            "_view_count": null,
            "_view_module": "@jupyter-widgets/controls",
            "_view_module_version": "1.5.0",
            "_view_name": "VBoxView",
            "box_style": "",
            "children": [
              "IPY_MODEL_62b03c63cecb446fb1429fff3de78ba5"
            ],
            "layout": "IPY_MODEL_acb11337c0e840efbdc6ff1beb625a58"
          }
        },
        "f310f47bc28241279ed230a7d14627f0": {
          "model_module": "@jupyter-widgets/controls",
          "model_name": "HTMLModel",
          "model_module_version": "1.5.0",
          "state": {
            "_dom_classes": [],
            "_model_module": "@jupyter-widgets/controls",
            "_model_module_version": "1.5.0",
            "_model_name": "HTMLModel",
            "_view_count": null,
            "_view_module": "@jupyter-widgets/controls",
            "_view_module_version": "1.5.0",
            "_view_name": "HTMLView",
            "description": "",
            "description_tooltip": null,
            "layout": "IPY_MODEL_944ba3614c244c7882a063ba7b189e9b",
            "placeholder": "​",
            "style": "IPY_MODEL_a7c4609f8f2a450094a4ebdea9fabf19",
            "value": "<center> <img\nsrc=https://www.kaggle.com/static/images/site-logo.png\nalt='Kaggle'> <br> Create an API token from <a\nhref=\"https://www.kaggle.com/settings/account\" target=\"_blank\">your Kaggle\nsettings page</a> and paste it below along with your Kaggle username. <br> </center>"
          }
        },
        "67187fd769e64bbdb5a72185482ca725": {
          "model_module": "@jupyter-widgets/controls",
          "model_name": "TextModel",
          "model_module_version": "1.5.0",
          "state": {
            "_dom_classes": [],
            "_model_module": "@jupyter-widgets/controls",
            "_model_module_version": "1.5.0",
            "_model_name": "TextModel",
            "_view_count": null,
            "_view_module": "@jupyter-widgets/controls",
            "_view_module_version": "1.5.0",
            "_view_name": "TextView",
            "continuous_update": true,
            "description": "Username:",
            "description_tooltip": null,
            "disabled": false,
            "layout": "IPY_MODEL_7448d22524ed4304807fe50ba5a9f675",
            "placeholder": "​",
            "style": "IPY_MODEL_9ce88699b41b434fbb2914eaa00d92a4",
            "value": "arnabkarsarkar"
          }
        },
        "2f449ef942ea41f4809a28c3838c6215": {
          "model_module": "@jupyter-widgets/controls",
          "model_name": "PasswordModel",
          "model_module_version": "1.5.0",
          "state": {
            "_dom_classes": [],
            "_model_module": "@jupyter-widgets/controls",
            "_model_module_version": "1.5.0",
            "_model_name": "PasswordModel",
            "_view_count": null,
            "_view_module": "@jupyter-widgets/controls",
            "_view_module_version": "1.5.0",
            "_view_name": "PasswordView",
            "continuous_update": true,
            "description": "Token:",
            "description_tooltip": null,
            "disabled": false,
            "layout": "IPY_MODEL_790e24d57b1e4678be7cc6ee769fdb7d",
            "placeholder": "​",
            "style": "IPY_MODEL_05e6514609e84378801c31db3f7723c6",
            "value": ""
          }
        },
        "5013220412c144d4ab5c19f6e7978732": {
          "model_module": "@jupyter-widgets/controls",
          "model_name": "ButtonModel",
          "model_module_version": "1.5.0",
          "state": {
            "_dom_classes": [],
            "_model_module": "@jupyter-widgets/controls",
            "_model_module_version": "1.5.0",
            "_model_name": "ButtonModel",
            "_view_count": null,
            "_view_module": "@jupyter-widgets/controls",
            "_view_module_version": "1.5.0",
            "_view_name": "ButtonView",
            "button_style": "",
            "description": "Login",
            "disabled": false,
            "icon": "",
            "layout": "IPY_MODEL_3f8e27d68e5b421c883019f1f9220357",
            "style": "IPY_MODEL_57412600dd334dee8aacc452712b464f",
            "tooltip": ""
          }
        },
        "496ec9462d694919a8010fc4ca1846c3": {
          "model_module": "@jupyter-widgets/controls",
          "model_name": "HTMLModel",
          "model_module_version": "1.5.0",
          "state": {
            "_dom_classes": [],
            "_model_module": "@jupyter-widgets/controls",
            "_model_module_version": "1.5.0",
            "_model_name": "HTMLModel",
            "_view_count": null,
            "_view_module": "@jupyter-widgets/controls",
            "_view_module_version": "1.5.0",
            "_view_name": "HTMLView",
            "description": "",
            "description_tooltip": null,
            "layout": "IPY_MODEL_db95bf2ad3af4d4f8d75e665a848d692",
            "placeholder": "​",
            "style": "IPY_MODEL_e0c3ba7f98a44ecfb14617673b5e67a4",
            "value": "\n<b>Thank You</b></center>"
          }
        },
        "acb11337c0e840efbdc6ff1beb625a58": {
          "model_module": "@jupyter-widgets/base",
          "model_name": "LayoutModel",
          "model_module_version": "1.2.0",
          "state": {
            "_model_module": "@jupyter-widgets/base",
            "_model_module_version": "1.2.0",
            "_model_name": "LayoutModel",
            "_view_count": null,
            "_view_module": "@jupyter-widgets/base",
            "_view_module_version": "1.2.0",
            "_view_name": "LayoutView",
            "align_content": null,
            "align_items": "center",
            "align_self": null,
            "border": null,
            "bottom": null,
            "display": "flex",
            "flex": null,
            "flex_flow": "column",
            "grid_area": null,
            "grid_auto_columns": null,
            "grid_auto_flow": null,
            "grid_auto_rows": null,
            "grid_column": null,
            "grid_gap": null,
            "grid_row": null,
            "grid_template_areas": null,
            "grid_template_columns": null,
            "grid_template_rows": null,
            "height": null,
            "justify_content": null,
            "justify_items": null,
            "left": null,
            "margin": null,
            "max_height": null,
            "max_width": null,
            "min_height": null,
            "min_width": null,
            "object_fit": null,
            "object_position": null,
            "order": null,
            "overflow": null,
            "overflow_x": null,
            "overflow_y": null,
            "padding": null,
            "right": null,
            "top": null,
            "visibility": null,
            "width": "50%"
          }
        },
        "944ba3614c244c7882a063ba7b189e9b": {
          "model_module": "@jupyter-widgets/base",
          "model_name": "LayoutModel",
          "model_module_version": "1.2.0",
          "state": {
            "_model_module": "@jupyter-widgets/base",
            "_model_module_version": "1.2.0",
            "_model_name": "LayoutModel",
            "_view_count": null,
            "_view_module": "@jupyter-widgets/base",
            "_view_module_version": "1.2.0",
            "_view_name": "LayoutView",
            "align_content": null,
            "align_items": null,
            "align_self": null,
            "border": null,
            "bottom": null,
            "display": null,
            "flex": null,
            "flex_flow": null,
            "grid_area": null,
            "grid_auto_columns": null,
            "grid_auto_flow": null,
            "grid_auto_rows": null,
            "grid_column": null,
            "grid_gap": null,
            "grid_row": null,
            "grid_template_areas": null,
            "grid_template_columns": null,
            "grid_template_rows": null,
            "height": null,
            "justify_content": null,
            "justify_items": null,
            "left": null,
            "margin": null,
            "max_height": null,
            "max_width": null,
            "min_height": null,
            "min_width": null,
            "object_fit": null,
            "object_position": null,
            "order": null,
            "overflow": null,
            "overflow_x": null,
            "overflow_y": null,
            "padding": null,
            "right": null,
            "top": null,
            "visibility": null,
            "width": null
          }
        },
        "a7c4609f8f2a450094a4ebdea9fabf19": {
          "model_module": "@jupyter-widgets/controls",
          "model_name": "DescriptionStyleModel",
          "model_module_version": "1.5.0",
          "state": {
            "_model_module": "@jupyter-widgets/controls",
            "_model_module_version": "1.5.0",
            "_model_name": "DescriptionStyleModel",
            "_view_count": null,
            "_view_module": "@jupyter-widgets/base",
            "_view_module_version": "1.2.0",
            "_view_name": "StyleView",
            "description_width": ""
          }
        },
        "7448d22524ed4304807fe50ba5a9f675": {
          "model_module": "@jupyter-widgets/base",
          "model_name": "LayoutModel",
          "model_module_version": "1.2.0",
          "state": {
            "_model_module": "@jupyter-widgets/base",
            "_model_module_version": "1.2.0",
            "_model_name": "LayoutModel",
            "_view_count": null,
            "_view_module": "@jupyter-widgets/base",
            "_view_module_version": "1.2.0",
            "_view_name": "LayoutView",
            "align_content": null,
            "align_items": null,
            "align_self": null,
            "border": null,
            "bottom": null,
            "display": null,
            "flex": null,
            "flex_flow": null,
            "grid_area": null,
            "grid_auto_columns": null,
            "grid_auto_flow": null,
            "grid_auto_rows": null,
            "grid_column": null,
            "grid_gap": null,
            "grid_row": null,
            "grid_template_areas": null,
            "grid_template_columns": null,
            "grid_template_rows": null,
            "height": null,
            "justify_content": null,
            "justify_items": null,
            "left": null,
            "margin": null,
            "max_height": null,
            "max_width": null,
            "min_height": null,
            "min_width": null,
            "object_fit": null,
            "object_position": null,
            "order": null,
            "overflow": null,
            "overflow_x": null,
            "overflow_y": null,
            "padding": null,
            "right": null,
            "top": null,
            "visibility": null,
            "width": null
          }
        },
        "9ce88699b41b434fbb2914eaa00d92a4": {
          "model_module": "@jupyter-widgets/controls",
          "model_name": "DescriptionStyleModel",
          "model_module_version": "1.5.0",
          "state": {
            "_model_module": "@jupyter-widgets/controls",
            "_model_module_version": "1.5.0",
            "_model_name": "DescriptionStyleModel",
            "_view_count": null,
            "_view_module": "@jupyter-widgets/base",
            "_view_module_version": "1.2.0",
            "_view_name": "StyleView",
            "description_width": ""
          }
        },
        "790e24d57b1e4678be7cc6ee769fdb7d": {
          "model_module": "@jupyter-widgets/base",
          "model_name": "LayoutModel",
          "model_module_version": "1.2.0",
          "state": {
            "_model_module": "@jupyter-widgets/base",
            "_model_module_version": "1.2.0",
            "_model_name": "LayoutModel",
            "_view_count": null,
            "_view_module": "@jupyter-widgets/base",
            "_view_module_version": "1.2.0",
            "_view_name": "LayoutView",
            "align_content": null,
            "align_items": null,
            "align_self": null,
            "border": null,
            "bottom": null,
            "display": null,
            "flex": null,
            "flex_flow": null,
            "grid_area": null,
            "grid_auto_columns": null,
            "grid_auto_flow": null,
            "grid_auto_rows": null,
            "grid_column": null,
            "grid_gap": null,
            "grid_row": null,
            "grid_template_areas": null,
            "grid_template_columns": null,
            "grid_template_rows": null,
            "height": null,
            "justify_content": null,
            "justify_items": null,
            "left": null,
            "margin": null,
            "max_height": null,
            "max_width": null,
            "min_height": null,
            "min_width": null,
            "object_fit": null,
            "object_position": null,
            "order": null,
            "overflow": null,
            "overflow_x": null,
            "overflow_y": null,
            "padding": null,
            "right": null,
            "top": null,
            "visibility": null,
            "width": null
          }
        },
        "05e6514609e84378801c31db3f7723c6": {
          "model_module": "@jupyter-widgets/controls",
          "model_name": "DescriptionStyleModel",
          "model_module_version": "1.5.0",
          "state": {
            "_model_module": "@jupyter-widgets/controls",
            "_model_module_version": "1.5.0",
            "_model_name": "DescriptionStyleModel",
            "_view_count": null,
            "_view_module": "@jupyter-widgets/base",
            "_view_module_version": "1.2.0",
            "_view_name": "StyleView",
            "description_width": ""
          }
        },
        "3f8e27d68e5b421c883019f1f9220357": {
          "model_module": "@jupyter-widgets/base",
          "model_name": "LayoutModel",
          "model_module_version": "1.2.0",
          "state": {
            "_model_module": "@jupyter-widgets/base",
            "_model_module_version": "1.2.0",
            "_model_name": "LayoutModel",
            "_view_count": null,
            "_view_module": "@jupyter-widgets/base",
            "_view_module_version": "1.2.0",
            "_view_name": "LayoutView",
            "align_content": null,
            "align_items": null,
            "align_self": null,
            "border": null,
            "bottom": null,
            "display": null,
            "flex": null,
            "flex_flow": null,
            "grid_area": null,
            "grid_auto_columns": null,
            "grid_auto_flow": null,
            "grid_auto_rows": null,
            "grid_column": null,
            "grid_gap": null,
            "grid_row": null,
            "grid_template_areas": null,
            "grid_template_columns": null,
            "grid_template_rows": null,
            "height": null,
            "justify_content": null,
            "justify_items": null,
            "left": null,
            "margin": null,
            "max_height": null,
            "max_width": null,
            "min_height": null,
            "min_width": null,
            "object_fit": null,
            "object_position": null,
            "order": null,
            "overflow": null,
            "overflow_x": null,
            "overflow_y": null,
            "padding": null,
            "right": null,
            "top": null,
            "visibility": null,
            "width": null
          }
        },
        "57412600dd334dee8aacc452712b464f": {
          "model_module": "@jupyter-widgets/controls",
          "model_name": "ButtonStyleModel",
          "model_module_version": "1.5.0",
          "state": {
            "_model_module": "@jupyter-widgets/controls",
            "_model_module_version": "1.5.0",
            "_model_name": "ButtonStyleModel",
            "_view_count": null,
            "_view_module": "@jupyter-widgets/base",
            "_view_module_version": "1.2.0",
            "_view_name": "StyleView",
            "button_color": null,
            "font_weight": ""
          }
        },
        "db95bf2ad3af4d4f8d75e665a848d692": {
          "model_module": "@jupyter-widgets/base",
          "model_name": "LayoutModel",
          "model_module_version": "1.2.0",
          "state": {
            "_model_module": "@jupyter-widgets/base",
            "_model_module_version": "1.2.0",
            "_model_name": "LayoutModel",
            "_view_count": null,
            "_view_module": "@jupyter-widgets/base",
            "_view_module_version": "1.2.0",
            "_view_name": "LayoutView",
            "align_content": null,
            "align_items": null,
            "align_self": null,
            "border": null,
            "bottom": null,
            "display": null,
            "flex": null,
            "flex_flow": null,
            "grid_area": null,
            "grid_auto_columns": null,
            "grid_auto_flow": null,
            "grid_auto_rows": null,
            "grid_column": null,
            "grid_gap": null,
            "grid_row": null,
            "grid_template_areas": null,
            "grid_template_columns": null,
            "grid_template_rows": null,
            "height": null,
            "justify_content": null,
            "justify_items": null,
            "left": null,
            "margin": null,
            "max_height": null,
            "max_width": null,
            "min_height": null,
            "min_width": null,
            "object_fit": null,
            "object_position": null,
            "order": null,
            "overflow": null,
            "overflow_x": null,
            "overflow_y": null,
            "padding": null,
            "right": null,
            "top": null,
            "visibility": null,
            "width": null
          }
        },
        "e0c3ba7f98a44ecfb14617673b5e67a4": {
          "model_module": "@jupyter-widgets/controls",
          "model_name": "DescriptionStyleModel",
          "model_module_version": "1.5.0",
          "state": {
            "_model_module": "@jupyter-widgets/controls",
            "_model_module_version": "1.5.0",
            "_model_name": "DescriptionStyleModel",
            "_view_count": null,
            "_view_module": "@jupyter-widgets/base",
            "_view_module_version": "1.2.0",
            "_view_name": "StyleView",
            "description_width": ""
          }
        },
        "31d7d106b14b4d549423a7b4c10cec45": {
          "model_module": "@jupyter-widgets/controls",
          "model_name": "LabelModel",
          "model_module_version": "1.5.0",
          "state": {
            "_dom_classes": [],
            "_model_module": "@jupyter-widgets/controls",
            "_model_module_version": "1.5.0",
            "_model_name": "LabelModel",
            "_view_count": null,
            "_view_module": "@jupyter-widgets/controls",
            "_view_module_version": "1.5.0",
            "_view_name": "LabelView",
            "description": "",
            "description_tooltip": null,
            "layout": "IPY_MODEL_d9bd383949c945c5b4770458c597866f",
            "placeholder": "​",
            "style": "IPY_MODEL_ff53e88eb3be4277ada879b71bf1fd9e",
            "value": "Connecting..."
          }
        },
        "d9bd383949c945c5b4770458c597866f": {
          "model_module": "@jupyter-widgets/base",
          "model_name": "LayoutModel",
          "model_module_version": "1.2.0",
          "state": {
            "_model_module": "@jupyter-widgets/base",
            "_model_module_version": "1.2.0",
            "_model_name": "LayoutModel",
            "_view_count": null,
            "_view_module": "@jupyter-widgets/base",
            "_view_module_version": "1.2.0",
            "_view_name": "LayoutView",
            "align_content": null,
            "align_items": null,
            "align_self": null,
            "border": null,
            "bottom": null,
            "display": null,
            "flex": null,
            "flex_flow": null,
            "grid_area": null,
            "grid_auto_columns": null,
            "grid_auto_flow": null,
            "grid_auto_rows": null,
            "grid_column": null,
            "grid_gap": null,
            "grid_row": null,
            "grid_template_areas": null,
            "grid_template_columns": null,
            "grid_template_rows": null,
            "height": null,
            "justify_content": null,
            "justify_items": null,
            "left": null,
            "margin": null,
            "max_height": null,
            "max_width": null,
            "min_height": null,
            "min_width": null,
            "object_fit": null,
            "object_position": null,
            "order": null,
            "overflow": null,
            "overflow_x": null,
            "overflow_y": null,
            "padding": null,
            "right": null,
            "top": null,
            "visibility": null,
            "width": null
          }
        },
        "ff53e88eb3be4277ada879b71bf1fd9e": {
          "model_module": "@jupyter-widgets/controls",
          "model_name": "DescriptionStyleModel",
          "model_module_version": "1.5.0",
          "state": {
            "_model_module": "@jupyter-widgets/controls",
            "_model_module_version": "1.5.0",
            "_model_name": "DescriptionStyleModel",
            "_view_count": null,
            "_view_module": "@jupyter-widgets/base",
            "_view_module_version": "1.2.0",
            "_view_name": "StyleView",
            "description_width": ""
          }
        },
        "62b03c63cecb446fb1429fff3de78ba5": {
          "model_module": "@jupyter-widgets/controls",
          "model_name": "LabelModel",
          "model_module_version": "1.5.0",
          "state": {
            "_dom_classes": [],
            "_model_module": "@jupyter-widgets/controls",
            "_model_module_version": "1.5.0",
            "_model_name": "LabelModel",
            "_view_count": null,
            "_view_module": "@jupyter-widgets/controls",
            "_view_module_version": "1.5.0",
            "_view_name": "LabelView",
            "description": "",
            "description_tooltip": null,
            "layout": "IPY_MODEL_cbcd2bbac643493aba76ed6b9c6c42f8",
            "placeholder": "​",
            "style": "IPY_MODEL_881cf899b5fc4dd79f161dac821394d6",
            "value": "Kaggle credentials successfully validated."
          }
        },
        "cbcd2bbac643493aba76ed6b9c6c42f8": {
          "model_module": "@jupyter-widgets/base",
          "model_name": "LayoutModel",
          "model_module_version": "1.2.0",
          "state": {
            "_model_module": "@jupyter-widgets/base",
            "_model_module_version": "1.2.0",
            "_model_name": "LayoutModel",
            "_view_count": null,
            "_view_module": "@jupyter-widgets/base",
            "_view_module_version": "1.2.0",
            "_view_name": "LayoutView",
            "align_content": null,
            "align_items": null,
            "align_self": null,
            "border": null,
            "bottom": null,
            "display": null,
            "flex": null,
            "flex_flow": null,
            "grid_area": null,
            "grid_auto_columns": null,
            "grid_auto_flow": null,
            "grid_auto_rows": null,
            "grid_column": null,
            "grid_gap": null,
            "grid_row": null,
            "grid_template_areas": null,
            "grid_template_columns": null,
            "grid_template_rows": null,
            "height": null,
            "justify_content": null,
            "justify_items": null,
            "left": null,
            "margin": null,
            "max_height": null,
            "max_width": null,
            "min_height": null,
            "min_width": null,
            "object_fit": null,
            "object_position": null,
            "order": null,
            "overflow": null,
            "overflow_x": null,
            "overflow_y": null,
            "padding": null,
            "right": null,
            "top": null,
            "visibility": null,
            "width": null
          }
        },
        "881cf899b5fc4dd79f161dac821394d6": {
          "model_module": "@jupyter-widgets/controls",
          "model_name": "DescriptionStyleModel",
          "model_module_version": "1.5.0",
          "state": {
            "_model_module": "@jupyter-widgets/controls",
            "_model_module_version": "1.5.0",
            "_model_name": "DescriptionStyleModel",
            "_view_count": null,
            "_view_module": "@jupyter-widgets/base",
            "_view_module_version": "1.2.0",
            "_view_name": "StyleView",
            "description_width": ""
          }
        }
      }
    }
  },
  "nbformat_minor": 0,
  "nbformat": 4,
  "cells": [
    {
      "cell_type": "markdown",
      "metadata": {
        "id": "view-in-github",
        "colab_type": "text"
      },
      "source": [
        "<a href=\"https://colab.research.google.com/github/arnabksarkar/LLMFinetuning/blob/main/FineTune_Gemma_for_Bengali_text.ipynb\" target=\"_parent\"><img src=\"https://colab.research.google.com/assets/colab-badge.svg\" alt=\"Open In Colab\"/></a>"
      ]
    },
    {
      "source": [
        "# IMPORTANT: SOME KAGGLE DATA SOURCES ARE PRIVATE\n",
        "# RUN THIS CELL IN ORDER TO IMPORT YOUR KAGGLE DATA SOURCES.\n",
        "import kagglehub\n",
        "kagglehub.login()\n"
      ],
      "metadata": {
        "id": "Icc7f1IhwElV",
        "outputId": "7cca7d50-f0ac-4496-9693-1fb860498c84",
        "colab": {
          "base_uri": "https://localhost:8080/",
          "height": 123,
          "referenced_widgets": [
            "ef5e6647aeb54173a64800455f399acc",
            "f310f47bc28241279ed230a7d14627f0",
            "67187fd769e64bbdb5a72185482ca725",
            "2f449ef942ea41f4809a28c3838c6215",
            "5013220412c144d4ab5c19f6e7978732",
            "496ec9462d694919a8010fc4ca1846c3",
            "acb11337c0e840efbdc6ff1beb625a58",
            "944ba3614c244c7882a063ba7b189e9b",
            "a7c4609f8f2a450094a4ebdea9fabf19",
            "7448d22524ed4304807fe50ba5a9f675",
            "9ce88699b41b434fbb2914eaa00d92a4",
            "790e24d57b1e4678be7cc6ee769fdb7d",
            "05e6514609e84378801c31db3f7723c6",
            "3f8e27d68e5b421c883019f1f9220357",
            "57412600dd334dee8aacc452712b464f",
            "db95bf2ad3af4d4f8d75e665a848d692",
            "e0c3ba7f98a44ecfb14617673b5e67a4",
            "31d7d106b14b4d549423a7b4c10cec45",
            "d9bd383949c945c5b4770458c597866f",
            "ff53e88eb3be4277ada879b71bf1fd9e",
            "62b03c63cecb446fb1429fff3de78ba5",
            "cbcd2bbac643493aba76ed6b9c6c42f8",
            "881cf899b5fc4dd79f161dac821394d6"
          ]
        }
      },
      "cell_type": "code",
      "outputs": [
        {
          "output_type": "display_data",
          "data": {
            "text/plain": [
              "VBox(children=(HTML(value='<center> <img\\nsrc=https://www.kaggle.com/static/images/site-logo.png\\nalt=\\'Kaggle…"
            ],
            "application/vnd.jupyter.widget-view+json": {
              "version_major": 2,
              "version_minor": 0,
              "model_id": "ef5e6647aeb54173a64800455f399acc"
            }
          },
          "metadata": {}
        },
        {
          "output_type": "stream",
          "name": "stdout",
          "text": [
            "Kaggle credentials set.\n",
            "Warning: Looks like you're using an outdated `kagglehub` version (installed: 0.3.5), please consider upgrading to the latest version (0.3.6).\n",
            "Kaggle credentials successfully validated.\n"
          ]
        }
      ],
      "execution_count": 2
    },
    {
      "source": [
        "# IMPORTANT: RUN THIS CELL IN ORDER TO IMPORT YOUR KAGGLE DATA SOURCES,\n",
        "# THEN FEEL FREE TO DELETE THIS CELL.\n",
        "# NOTE: THIS NOTEBOOK ENVIRONMENT DIFFERS FROM KAGGLE'S PYTHON\n",
        "# ENVIRONMENT SO THERE MAY BE MISSING LIBRARIES USED BY YOUR\n",
        "# NOTEBOOK.\n",
        "\n",
        "gemma_language_tuning_path = kagglehub.competition_download('gemma-language-tuning')\n",
        "arnabkarsarkar_bengali_culture_history_wiki_path = kagglehub.dataset_download('arnabkarsarkar/bengali-culture-history-wiki')\n",
        "keras_gemma2_keras_gemma2_instruct_2b_en_1_path = kagglehub.model_download('keras/gemma2/Keras/gemma2_instruct_2b_en/1')\n",
        "\n",
        "print('Data source import complete.')\n"
      ],
      "metadata": {
        "id": "MjI-clW0wElX",
        "outputId": "16cea3ed-c08b-477b-8e7a-b717d2fbf8dd",
        "colab": {
          "base_uri": "https://localhost:8080/"
        }
      },
      "cell_type": "code",
      "outputs": [
        {
          "output_type": "stream",
          "name": "stdout",
          "text": [
            "Downloading from https://www.kaggle.com/api/v1/competitions/data/download-all/gemma-language-tuning...\n"
          ]
        },
        {
          "output_type": "stream",
          "name": "stderr",
          "text": [
            "100%|██████████| 646/646 [00:00<00:00, 397kB/s]"
          ]
        },
        {
          "output_type": "stream",
          "name": "stdout",
          "text": [
            "Extracting files...\n"
          ]
        },
        {
          "output_type": "stream",
          "name": "stderr",
          "text": [
            "\n"
          ]
        },
        {
          "output_type": "stream",
          "name": "stdout",
          "text": [
            "Warning: Looks like you're using an outdated `kagglehub` version (installed: 0.3.5), please consider upgrading to the latest version (0.3.6).\n",
            "Downloading from https://www.kaggle.com/api/v1/datasets/download/arnabkarsarkar/bengali-culture-history-wiki?dataset_version_number=5...\n"
          ]
        },
        {
          "output_type": "stream",
          "name": "stderr",
          "text": [
            "100%|██████████| 800k/800k [00:00<00:00, 71.6MB/s]"
          ]
        },
        {
          "output_type": "stream",
          "name": "stdout",
          "text": [
            "Extracting files...\n"
          ]
        },
        {
          "output_type": "stream",
          "name": "stderr",
          "text": [
            "\n"
          ]
        },
        {
          "output_type": "stream",
          "name": "stdout",
          "text": [
            "Data source import complete.\n"
          ]
        }
      ],
      "execution_count": 3
    },
    {
      "cell_type": "code",
      "source": [
        "# This Python 3 environment comes with many helpful analytics libraries installed\n",
        "# It is defined by the kaggle/python Docker image: https://github.com/kaggle/docker-python\n",
        "# For example, here's several helpful packages to load\n",
        "\n",
        "import numpy as np # linear algebra\n",
        "import pandas as pd # data processing, CSV file I/O (e.g. pd.read_csv)\n",
        "\n",
        "# Input data files are available in the read-only \"../input/\" directory\n",
        "# For example, running this (by clicking run or pressing Shift+Enter) will list all files under the input directory\n",
        "\n",
        "import os\n",
        "for dirname, _, filenames in os.walk('/kaggle/input'):\n",
        "    for filename in filenames:\n",
        "        print(os.path.join(dirname, filename))\n",
        "\n",
        "# You can write up to 20GB to the current directory (/kaggle/working/) that gets preserved as output when you create a version using \"Save & Run All\"\n",
        "# You can also write temporary files to /kaggle/temp/, but they won't be saved outside of the current session"
      ],
      "metadata": {
        "_uuid": "8f2839f25d086af736a60e9eeb907d3b93b6e0e5",
        "_cell_guid": "b1076dfc-b9ad-4769-8c92-a6c4dae69d19",
        "trusted": true,
        "_kg_hide-input": true,
        "execution": {
          "iopub.status.busy": "2025-01-14T21:20:48.05084Z",
          "iopub.execute_input": "2025-01-14T21:20:48.051195Z",
          "iopub.status.idle": "2025-01-14T21:20:48.06203Z",
          "shell.execute_reply.started": "2025-01-14T21:20:48.051172Z",
          "shell.execute_reply": "2025-01-14T21:20:48.06119Z"
        },
        "id": "Qv73ep0XwElX",
        "outputId": "d95f9f21-449b-4a0d-9b24-7f4c23782259",
        "colab": {
          "base_uri": "https://localhost:8080/"
        }
      },
      "outputs": [
        {
          "output_type": "stream",
          "name": "stdout",
          "text": [
            "/kaggle/input/gemma2/keras/gemma2_instruct_2b_en/1/config.json\n",
            "/kaggle/input/gemma2/keras/gemma2_instruct_2b_en/1/tokenizer.json\n",
            "/kaggle/input/gemma2/keras/gemma2_instruct_2b_en/1/metadata.json\n",
            "/kaggle/input/gemma2/keras/gemma2_instruct_2b_en/1/model.weights.h5\n",
            "/kaggle/input/gemma2/keras/gemma2_instruct_2b_en/1/assets/tokenizer/vocabulary.spm\n"
          ]
        }
      ],
      "execution_count": 4
    },
    {
      "cell_type": "code",
      "source": [
        "import matplotlib.pyplot as plt\n",
        "import seaborn as sns\n",
        "from IPython.display import display, Markdown"
      ],
      "metadata": {
        "trusted": true,
        "execution": {
          "iopub.status.busy": "2025-01-14T21:21:23.694519Z",
          "iopub.execute_input": "2025-01-14T21:21:23.69487Z",
          "iopub.status.idle": "2025-01-14T21:21:24.194887Z",
          "shell.execute_reply.started": "2025-01-14T21:21:23.694843Z",
          "shell.execute_reply": "2025-01-14T21:21:24.194219Z"
        },
        "id": "7umpTYlYwElY"
      },
      "outputs": [],
      "execution_count": 5
    },
    {
      "cell_type": "markdown",
      "source": [
        "# Introduction"
      ],
      "metadata": {
        "id": "pcso7S3ZwElY"
      }
    },
    {
      "cell_type": "markdown",
      "source": [
        "Gemma is a family of open-source large language models (LLMs) developed by Google. It's designed to be accessible and flexible, allowing developers and researchers to experiment with AI capabilities on various devices, from consumer-grade GPUs to CPUs. Gemma comes in different sizes (2B and 7B parameters) and variants (base and instruction-tuned) to suit different needs and applications.\n",
        "\n",
        "\n",
        "In this notebook, I am going to show a methodology for fine-tuning the Gemma2 language model to understand Bengali history & culture, addressing a key gap in handling regional languages. I do not believe we have an easy way to fine tune any LLM model in reginonal languagages. Using Bengali texts as our test case, we can show that this methodology can be adapted for any language.\n",
        "\n",
        "I've structured this as a practical, reproducible guide that takes you from initial setup to a fully functional model capable of translating standard text into authentic slang. While I use Bengali examples throughout (marked in *italics*), the core principles and technical approaches apply universally.\n",
        "\n",
        "The instructions are written in English to make this resource accessible to a broader technical audience, with clear documentation of each step in the fine-tuning process."
      ],
      "metadata": {
        "id": "ALiBzyhRwElZ"
      }
    },
    {
      "cell_type": "markdown",
      "source": [
        "# Data Curation"
      ],
      "metadata": {
        "id": "6iougPVIwElZ"
      }
    },
    {
      "cell_type": "markdown",
      "source": [
        "## Data Source Selection\n",
        "\n",
        "I chose **Wikipedia** as the primary data source due to its extensive coverage and multilingual content.The choice was driven by the scarcity of readily available, high-quality Bengali language datasets\n",
        "\n",
        "Wikipedia's standardized format and reliable content quality made it an ideal source for training data\n",
        "\n",
        "\n"
      ],
      "metadata": {
        "id": "MXPg9HhGwElZ"
      }
    },
    {
      "cell_type": "markdown",
      "source": [
        "### Download the data from Wikipedia\n",
        "\n",
        "Here I have used the *Bengali* culture pages from Wikipedia website and extracted the contents.\n",
        "\n",
        "Below is a pseudo code for the same"
      ],
      "metadata": {
        "id": "LG4rBhiGwElZ"
      }
    },
    {
      "cell_type": "code",
      "source": [
        "# Below code will extract all links from the Wiki pages going upto 5 level depth.\n",
        "\n",
        "# def extract_links_from_webpage(url):\n",
        "#     \"\"\"Extracts all links from a given webpage URL.\"\"\"\n",
        "\n",
        "#     try:\n",
        "#         response = requests.get(url)\n",
        "#         response.raise_for_status()  # Raise an exception for bad status codes\n",
        "\n",
        "#         soup = BeautifulSoup(response.content, 'html.parser')\n",
        "#         body = soup.find(\"div\", {\"id\": \"bodyContent\"})\n",
        "#         if body:\n",
        "#             links = [a['href'] for a in body.find_all('a', href=True)]\n",
        "#         else:\n",
        "#             links = []\n",
        "\n",
        "#         return links\n",
        "\n",
        "#     except requests.exceptions.RequestException as e:\n",
        "#         print(f\"Error: {e}\")\n",
        "#         return []\n",
        "\n",
        "\n",
        "\n",
        "# maxDepth = 5 # Set the maximum depth to traverse child pages\n",
        "\n",
        "\n",
        "# baseURL = 'https://en.wikipedia.org/wiki/Culture_of_Bengal'\n",
        "\n",
        "# allLinks = []\n",
        "# visitedLinks = set()  # To keep track of visited links\n",
        "\n",
        "# def crawl_and_extract_links(url, depth):\n",
        "#     if depth > maxDepth or url in visitedLinks:\n",
        "#         return\n",
        "#     visitedLinks.add(url)\n",
        "\n",
        "#     try:\n",
        "#         links = extract_links_from_webpage(url)\n",
        "#         for link in links:\n",
        "#             if link.endswith('.jpg') or link.endswith('.png') or link.endswith('.gif') or link.endswith('.svg'):\n",
        "#                 continue\n",
        "#             if link.startswith('#'):\n",
        "#                 continue\n",
        "#             if '/wiki/Category:' in link:\n",
        "#                 continue\n",
        "#             if '/Help:Category' in link:\n",
        "#                 continue\n",
        "#             if link.startswith('/'):\n",
        "#                 link = 'https://en.wikipedia.org' + link\n",
        "#             allLinks.append(link)\n",
        "#             visitedLinks.add(link)\n",
        "#             crawl_and_extract_links(link, depth + 1)\n",
        "#     except Exception as e:\n",
        "#         print(f\"Error processing {url}: {e}\")\n",
        "\n",
        "\n",
        "# crawl_and_extract_links(baseURL, 0)\n",
        "# allLinks = list(set(allLinks))\n",
        "# allLinks.append(baseURL)\n",
        "# print(\"Extracted Links size:\" + str(len(allLinks)))"
      ],
      "metadata": {
        "trusted": true,
        "_kg_hide-input": true,
        "id": "NnCYgvjawEla"
      },
      "outputs": [],
      "execution_count": null
    },
    {
      "cell_type": "code",
      "source": [
        "## This code will extract the text from each of the links from above websites.\n",
        "\n",
        "# def extract_text_from_webpage(url):\n",
        "#     \"\"\"Extracts text content from a given webpage URL and saves it to a text file.\"\"\"\n",
        "\n",
        "#     try:\n",
        "#         response = requests.get(url)\n",
        "#         response.raise_for_status()  # Raise an exception for bad status codes\n",
        "\n",
        "#         soup = BeautifulSoup(response.content, 'html.parser')\n",
        "#         title = soup.title.string if soup.title else \"Webpage_NO_Title\" + random.randint(10, 99)\n",
        "\n",
        "#         print(f\"Title of the webpage: {title}\")\n",
        "\n",
        "#         # Extract all text from <p> tags\n",
        "#         text_content = \" \".join([p.get_text() for p in soup.find_all('p')])\n",
        "\n",
        "#         # Save the extracted text to a file\n",
        "#         with open('all_bengali_culture_texts/' + title + '.txt', 'w', encoding='utf-8') as file:\n",
        "#             file.write(text_content)\n",
        "\n",
        "#         print(f\"Text extracted and saved for {title}\")\n",
        "\n",
        "#     except requests.exceptions.RequestException as e:\n",
        "#         print(f\"Error: {e}\")"
      ],
      "metadata": {
        "trusted": true,
        "id": "woMQl8JuwEla"
      },
      "outputs": [],
      "execution_count": null
    },
    {
      "cell_type": "markdown",
      "source": [
        "### Create Alpaca dataset using Gemini\n",
        "\n",
        "I've used Google's most advanced LLM model Gemini1.5 to translate the text and generate Alpaca dataset. Below is the code for the same"
      ],
      "metadata": {
        "id": "9o1xv8stwEla"
      }
    },
    {
      "cell_type": "code",
      "source": [
        "# # Import the genAI library\n",
        "# import google.generativeai as genai\n",
        "\n",
        "# # for Kaggle secrects\n",
        "# from kaggle_secrets import UserSecretsClient\n",
        "\n",
        "# user_secrets = UserSecretsClient()\n",
        "# GOOGLE_API_KEY = user_secrets.get_secret(\"GEMINI_API_KEY\")\n",
        "\n",
        "# #configure\n",
        "# genai.configure(api_key=GOOGLE_API_KEY)\n",
        "\n"
      ],
      "metadata": {
        "trusted": true,
        "_kg_hide-input": true,
        "id": "ljHW17ZMwEla"
      },
      "outputs": [],
      "execution_count": null
    },
    {
      "cell_type": "markdown",
      "source": [
        "In this below code I have used the prompt to Translate all the texts into *Bengali*."
      ],
      "metadata": {
        "id": "DRFTTFp4wEla"
      }
    },
    {
      "cell_type": "code",
      "source": [
        "# def translate_text(text, target_language=\"bangla\"):\n",
        "#     try:\n",
        "#         model = genai.GenerativeModel(\"gemini-1.5-pro-001\")\n",
        "#         response = model.generate_content(\n",
        "#             f\"Translate the following text to {target_language}:\\n\\n{text}\",\n",
        "#             generation_config = genai.GenerationConfig(\n",
        "#                                     max_output_tokens=1000,\n",
        "#                                     temperature=0.1,\n",
        "#                                 )\n",
        "#         )\n",
        "#         return response.text\n",
        "#     except Exception as e:\n",
        "#         print(f\"Error during translation: {e}\")\n",
        "#         return None\n",
        "\n",
        "\n",
        "# translated_files = []\n",
        "# for file_info in files_data:\n",
        "#     translated_text = translate_text(file_info['content'])\n",
        "#     print(f\"translation done for file {file_info['filename']}\")\n",
        "#     if translated_text:\n",
        "#         translated_files.append({\n",
        "#             'filename': file_info['filename'],\n",
        "#             'original_text': file_info['content'],\n",
        "#             'translated_text': translated_text\n",
        "#         })\n",
        "#     else:\n",
        "#         print(f\"Skipping translation for {file_info['filename']} due to error.\")\n",
        "\n",
        "# print(f'translated file sizes {len(translated_files)}')"
      ],
      "metadata": {
        "trusted": true,
        "id": "19zMbxAMwEla"
      },
      "outputs": [],
      "execution_count": null
    },
    {
      "cell_type": "markdown",
      "source": [
        "Once all the translation is completed, we can proceed to create the Alapaca dataset.\n",
        "\n",
        "I have used the below **Bengali** prompt to generate the dataset.\n",
        "\n",
        "> *prompt_text = প্রদত্ত পাঠ্য থেকে Alpaca ফরম্যাটে একটি JSON ফাইল তৈরি করুন।    প্রতিটি JSON টি Alpaca ফরম্যাটে অনুসরণ করা উচিত, প্রতিটি এন্ট্রির সাথে একটি \"নির্দেশ\", \"ইনপুট\", এবং \"আউটপুট\" থাকবে।    \"instruction\" ক্ষেত্রটি প্রদত্ত পাঠ্যের উপর ভিত্তি করে একটি টাস্ক বর্ণনা করবে।    \"input\" ক্ষেত্রটি কাজের জন্য প্রয়োজনীয় প্রাসঙ্গিক প্রসঙ্গ বা ডেটা সরবরাহ করবে।    \"output\" ক্ষেত্রটিতে নির্দেশের উত্তর থাকবে।    ইনপুট টেক্সটে একটি নির্দিষ্ট ফোল্ডার থেকে পড়া ফাইল সম্পর্কে তথ্য রয়েছে।    প্রতিটি ফাইলের নাম এবং এর বিষয়বস্তুর একটি অংশ (2000 অক্ষর পর্যন্ত) পাঠ্যটিতে অন্তর্ভুক্ত করা হয়েছে।    অনুগ্রহ করে প্রতিটি তৈরি করা নির্দেশনা এবং আউটপুট বাংলায় (বাংলা) অনুবাদ করুন।    একাধিক JSON অবজেক্ট তৈরি করতে এই তথ্যটি ব্যবহার করুন, প্রতিটি ফাইলের জন্য কমপক্ষে 2টি নির্দেশাবলী, যদি 2টি নির্দেশ সম্ভব না হয় দয়া করে শুধুমাত্র 1টি তৈরি করুন৷    নির্দেশে এমন একটি টাস্ক বর্ণনা করা উচিত যা প্রদত্ত বিষয়বস্তুর সাথে প্রাসঙ্গিক।    উদাহরণস্বরূপ, বিষয়বস্তুর সারসংক্ষেপ বা বিষয়বস্তুর সাথে সম্পর্কিত একটি প্রশ্নের উত্তর দিন।    ইনপুটে ফাইলের আংশিক বিষয়বস্তু থাকা উচিত।    আউটপুটে ফাইলের বিষয়বস্তুর উপর ভিত্তি করে নির্দেশের উত্তর থাকা উচিত।    প্রদত্ত ফাইলের কনটেন্ট দেওয়া হলো : \\n\\n*\n",
        "\n",
        "\n",
        "The english translation of this text would be something like this  \n",
        "\n",
        "> prompt_text = '''\n",
        "    Generate a JSON file in Alpaca format from the given text.\n",
        "    The JSON should follow the Alpaca format,\n",
        "    with each entry containing an \"instruction\", \"input\", and \"output\".\n",
        "    The \"instruction\" field should describe a task based on the text provided.\n",
        "    The \"input\" field should provide any relevant context or data needed for the task.\n",
        "    The \"output\" field will contain the response to the instruction.\n",
        "    The input text contains information about files read from a specified folder.\n",
        "    Each file's name and a portion of its content (up to 2000 characters) are included in the text.\n",
        "    Please translate each generated instruction and output into Bengali (bangla).\n",
        "    Use this information to create multiple JSON objects, atleast 2 instructions for each file, if 2 instructions are not possible please generate only 1.\n",
        "    The instruction should describe a task that relates to the file content.\n",
        "    For example, summarize the content or answer a question related to the content.\n",
        "    The input should contain the file name and its partial content.\n",
        "    The output should contain the response to the instruction based on the file's content.\n",
        "    Provide the entire JSON output as a single string.\n",
        "    Here is the code to generate the JSON: \\n\\n\n",
        "'''"
      ],
      "metadata": {
        "id": "UU9LB9NIwEla"
      }
    },
    {
      "cell_type": "code",
      "source": [
        "# def generate_alpaca_json(text : str, model_name = 'gemini-1.5-flash'):\n",
        "    # \"\"\"\n",
        "    #   This function uses Google's powerful LLM Gemini, to create structured data.\n",
        "    #   It takes input a text string, combines it with specific instructions,\n",
        "    #   and asks Gemini to create JSON in the \"Alpaca\" format,\n",
        "    #   which is often used for tasks like instruction following and question answering.\n",
        "    # \"\"\"\n",
        "    # try:\n",
        "    #     model = genai.GenerativeModel(model_name)\n",
        "    #     response = model.generate_content(\n",
        "    #         prompt_text + text,\n",
        "    #         generation_config = genai.GenerationConfig(\n",
        "    #                                 temperature=0.7\n",
        "    #                             )\n",
        "    #     )\n",
        "    #     return response.text\n",
        "    # except Exception as e:\n",
        "    #     print(f\"Error during generation: {e}\")\n",
        "    #     return None"
      ],
      "metadata": {
        "trusted": true,
        "id": "vMO9jce9wElb"
      },
      "outputs": [],
      "execution_count": null
    },
    {
      "cell_type": "markdown",
      "source": [
        "# Fine Tune Gemma 2"
      ],
      "metadata": {
        "id": "TfsMMGHQwElb"
      }
    },
    {
      "cell_type": "markdown",
      "source": [
        "Before we begin finetuning Gemma 2 model, it is important to see how the model is behaving to set a baseline."
      ],
      "metadata": {
        "id": "cqiENYyLwElb"
      }
    },
    {
      "cell_type": "markdown",
      "source": [
        "In this notebook, we will follow the fine-tuning gemma2 tutorial from Google using Keras library."
      ],
      "metadata": {
        "id": "7TVPeHzFwElb"
      }
    },
    {
      "cell_type": "markdown",
      "source": [
        "## Install dependencies\n",
        "\n",
        "Install Keras, KerasNLP, and other dependencies."
      ],
      "metadata": {
        "id": "DEJLqfPDwElb"
      }
    },
    {
      "cell_type": "code",
      "source": [
        "!pip install -q -U keras-nlp\n",
        "!pip install -q -U \"keras>=3\"\n",
        "!pip install -q -U pynvml"
      ],
      "metadata": {
        "trusted": true,
        "execution": {
          "iopub.status.busy": "2025-01-14T21:21:33.387042Z",
          "iopub.execute_input": "2025-01-14T21:21:33.387604Z",
          "iopub.status.idle": "2025-01-14T21:21:43.273041Z",
          "shell.execute_reply.started": "2025-01-14T21:21:33.387573Z",
          "shell.execute_reply": "2025-01-14T21:21:43.272045Z"
        },
        "id": "2jLTkMfSwElb",
        "outputId": "9b8019fc-ad03-45f0-a82f-59200a73a878",
        "colab": {
          "base_uri": "https://localhost:8080/"
        }
      },
      "outputs": [
        {
          "output_type": "stream",
          "name": "stdout",
          "text": [
            "\u001b[?25l   \u001b[90m━━━━━━━━━━━━━━━━━━━━━━━━━━━━━━━━━━━━━━━━\u001b[0m \u001b[32m0.0/691.2 kB\u001b[0m \u001b[31m?\u001b[0m eta \u001b[36m-:--:--\u001b[0m\r\u001b[2K   \u001b[91m━━━━━━━━━━━━━━━━━━━━━━━━━━━━━━\u001b[0m\u001b[91m╸\u001b[0m\u001b[90m━━━━━━━━━\u001b[0m \u001b[32m532.5/691.2 kB\u001b[0m \u001b[31m17.3 MB/s\u001b[0m eta \u001b[36m0:00:01\u001b[0m\r\u001b[2K   \u001b[90m━━━━━━━━━━━━━━━━━━━━━━━━━━━━━━━━━━━━━━━━\u001b[0m \u001b[32m691.2/691.2 kB\u001b[0m \u001b[31m13.1 MB/s\u001b[0m eta \u001b[36m0:00:00\u001b[0m\n",
            "\u001b[2K   \u001b[90m━━━━━━━━━━━━━━━━━━━━━━━━━━━━━━━━━━━━━━━━\u001b[0m \u001b[32m5.2/5.2 MB\u001b[0m \u001b[31m78.5 MB/s\u001b[0m eta \u001b[36m0:00:00\u001b[0m\n",
            "\u001b[2K   \u001b[90m━━━━━━━━━━━━━━━━━━━━━━━━━━━━━━━━━━━━━━━━\u001b[0m \u001b[32m615.3/615.3 MB\u001b[0m \u001b[31m2.9 MB/s\u001b[0m eta \u001b[36m0:00:00\u001b[0m\n",
            "\u001b[2K   \u001b[90m━━━━━━━━━━━━━━━━━━━━━━━━━━━━━━━━━━━━━━━━\u001b[0m \u001b[32m5.5/5.5 MB\u001b[0m \u001b[31m77.5 MB/s\u001b[0m eta \u001b[36m0:00:00\u001b[0m\n",
            "\u001b[?25h\u001b[31mERROR: pip's dependency resolver does not currently take into account all the packages that are installed. This behaviour is the source of the following dependency conflicts.\n",
            "tf-keras 2.17.0 requires tensorflow<2.18,>=2.17, but you have tensorflow 2.18.0 which is incompatible.\u001b[0m\u001b[31m\n",
            "\u001b[2K   \u001b[90m━━━━━━━━━━━━━━━━━━━━━━━━━━━━━━━━━━━━━━━━\u001b[0m \u001b[32m1.3/1.3 MB\u001b[0m \u001b[31m23.0 MB/s\u001b[0m eta \u001b[36m0:00:00\u001b[0m\n",
            "\u001b[?25h\u001b[31mERROR: pip's dependency resolver does not currently take into account all the packages that are installed. This behaviour is the source of the following dependency conflicts.\n",
            "tf-keras 2.17.0 requires tensorflow<2.18,>=2.17, but you have tensorflow 2.18.0 which is incompatible.\u001b[0m\u001b[31m\n",
            "\u001b[2K   \u001b[90m━━━━━━━━━━━━━━━━━━━━━━━━━━━━━━━━━━━━━━━━\u001b[0m \u001b[32m40.5/40.5 kB\u001b[0m \u001b[31m2.4 MB/s\u001b[0m eta \u001b[36m0:00:00\u001b[0m\n",
            "\u001b[?25h"
          ]
        }
      ],
      "execution_count": 6
    },
    {
      "cell_type": "markdown",
      "source": [
        "### Set Keras backend\n",
        "\n",
        "We need to select a backend for the keras."
      ],
      "metadata": {
        "id": "cuIaFPDlwElb"
      }
    },
    {
      "cell_type": "code",
      "source": [
        "os.environ[\"KERAS_BACKEND\"] = \"jax\"  # Or \"torch\" or \"tensorflow\".\n",
        "# Avoid memory fragmentation on JAX backend.\n",
        "os.environ[\"XLA_PYTHON_CLIENT_MEM_FRACTION\"]=\"1.00\""
      ],
      "metadata": {
        "trusted": true,
        "execution": {
          "iopub.status.busy": "2025-01-14T21:22:22.594892Z",
          "iopub.execute_input": "2025-01-14T21:22:22.595224Z",
          "iopub.status.idle": "2025-01-14T21:22:22.598981Z",
          "shell.execute_reply.started": "2025-01-14T21:22:22.595199Z",
          "shell.execute_reply": "2025-01-14T21:22:22.598017Z"
        },
        "id": "78HNGdjgwElb"
      },
      "outputs": [],
      "execution_count": 7
    },
    {
      "cell_type": "markdown",
      "source": [
        "### Import Packages\n",
        "\n",
        "Now we will import the keras packages."
      ],
      "metadata": {
        "id": "B6lZE_pzwElb"
      }
    },
    {
      "cell_type": "code",
      "source": [
        "import keras\n",
        "import keras_nlp"
      ],
      "metadata": {
        "trusted": true,
        "execution": {
          "iopub.status.busy": "2025-01-14T21:22:25.468649Z",
          "iopub.execute_input": "2025-01-14T21:22:25.468983Z",
          "iopub.status.idle": "2025-01-14T21:22:34.627002Z",
          "shell.execute_reply.started": "2025-01-14T21:22:25.468957Z",
          "shell.execute_reply": "2025-01-14T21:22:34.626321Z"
        },
        "id": "VsgdyTmUwElb"
      },
      "outputs": [],
      "execution_count": 8
    },
    {
      "cell_type": "markdown",
      "source": [
        "### Setup the Training parameters"
      ],
      "metadata": {
        "id": "vowmTL5UwElb"
      }
    },
    {
      "cell_type": "code",
      "source": [
        "# Training Configurations\n",
        "token_limit = 1024\n",
        "seq_length = 512 # max size of input sequence for training\n",
        "batch_size = 1\n",
        "num_data_limit = 100\n",
        "lora_name = \"arnab_gemma_bengali\"\n",
        "lora_rank = 4\n",
        "lr_value = 1e-4\n",
        "train_epoch = 10\n",
        "model_id = \"gemma2_instruct_2b_en\""
      ],
      "metadata": {
        "trusted": true,
        "execution": {
          "iopub.status.busy": "2025-01-14T21:23:18.075171Z",
          "iopub.execute_input": "2025-01-14T21:23:18.075814Z",
          "iopub.status.idle": "2025-01-14T21:23:18.080131Z",
          "shell.execute_reply.started": "2025-01-14T21:23:18.075783Z",
          "shell.execute_reply": "2025-01-14T21:23:18.079338Z"
        },
        "id": "PFzRTY6SwElb"
      },
      "outputs": [],
      "execution_count": 9
    },
    {
      "cell_type": "markdown",
      "source": [
        "### Load the model\n",
        "\n",
        "Keras NLP has the option to load the model."
      ],
      "metadata": {
        "id": "v55LIBeKwElb"
      }
    },
    {
      "cell_type": "code",
      "source": [
        "gemma_lm = keras_nlp.models.GemmaCausalLM.from_preset(model_id)\n",
        "gemma_lm.summary()"
      ],
      "metadata": {
        "trusted": true,
        "execution": {
          "iopub.status.busy": "2025-01-14T21:23:24.403721Z",
          "iopub.execute_input": "2025-01-14T21:23:24.404023Z",
          "iopub.status.idle": "2025-01-14T21:24:09.807403Z",
          "shell.execute_reply.started": "2025-01-14T21:23:24.404001Z",
          "shell.execute_reply": "2025-01-14T21:24:09.806506Z"
        },
        "id": "dD9q3eEHwElb",
        "outputId": "1026f1bc-5ed2-46a6-f4b0-e60d8667f058",
        "colab": {
          "base_uri": "https://localhost:8080/",
          "height": 397
        }
      },
      "outputs": [
        {
          "output_type": "display_data",
          "data": {
            "text/plain": [
              "\u001b[1mPreprocessor: \"gemma_causal_lm_preprocessor\"\u001b[0m\n"
            ],
            "text/html": [
              "<pre style=\"white-space:pre;overflow-x:auto;line-height:normal;font-family:Menlo,'DejaVu Sans Mono',consolas,'Courier New',monospace\"><span style=\"font-weight: bold\">Preprocessor: \"gemma_causal_lm_preprocessor\"</span>\n",
              "</pre>\n"
            ]
          },
          "metadata": {}
        },
        {
          "output_type": "display_data",
          "data": {
            "text/plain": [
              "┏━━━━━━━━━━━━━━━━━━━━━━━━━━━━━━━━━━━━━━━━━━━━━━━━━━━━━━━━━━━━━━━┳━━━━━━━━━━━━━━━━━━━━━━━━━━━━━━━━━━━━━━━━━━┓\n",
              "┃\u001b[1m \u001b[0m\u001b[1mLayer (type)                                                 \u001b[0m\u001b[1m \u001b[0m┃\u001b[1m \u001b[0m\u001b[1m                                  Config\u001b[0m\u001b[1m \u001b[0m┃\n",
              "┡━━━━━━━━━━━━━━━━━━━━━━━━━━━━━━━━━━━━━━━━━━━━━━━━━━━━━━━━━━━━━━━╇━━━━━━━━━━━━━━━━━━━━━━━━━━━━━━━━━━━━━━━━━━┩\n",
              "│ gemma_tokenizer (\u001b[38;5;33mGemmaTokenizer\u001b[0m)                              │                      Vocab size: \u001b[38;5;34m256,000\u001b[0m │\n",
              "└───────────────────────────────────────────────────────────────┴──────────────────────────────────────────┘\n"
            ],
            "text/html": [
              "<pre style=\"white-space:pre;overflow-x:auto;line-height:normal;font-family:Menlo,'DejaVu Sans Mono',consolas,'Courier New',monospace\">┏━━━━━━━━━━━━━━━━━━━━━━━━━━━━━━━━━━━━━━━━━━━━━━━━━━━━━━━━━━━━━━━┳━━━━━━━━━━━━━━━━━━━━━━━━━━━━━━━━━━━━━━━━━━┓\n",
              "┃<span style=\"font-weight: bold\"> Layer (type)                                                  </span>┃<span style=\"font-weight: bold\">                                   Config </span>┃\n",
              "┡━━━━━━━━━━━━━━━━━━━━━━━━━━━━━━━━━━━━━━━━━━━━━━━━━━━━━━━━━━━━━━━╇━━━━━━━━━━━━━━━━━━━━━━━━━━━━━━━━━━━━━━━━━━┩\n",
              "│ gemma_tokenizer (<span style=\"color: #0087ff; text-decoration-color: #0087ff\">GemmaTokenizer</span>)                              │                      Vocab size: <span style=\"color: #00af00; text-decoration-color: #00af00\">256,000</span> │\n",
              "└───────────────────────────────────────────────────────────────┴──────────────────────────────────────────┘\n",
              "</pre>\n"
            ]
          },
          "metadata": {}
        },
        {
          "output_type": "display_data",
          "data": {
            "text/plain": [
              "\u001b[1mModel: \"gemma_causal_lm\"\u001b[0m\n"
            ],
            "text/html": [
              "<pre style=\"white-space:pre;overflow-x:auto;line-height:normal;font-family:Menlo,'DejaVu Sans Mono',consolas,'Courier New',monospace\"><span style=\"font-weight: bold\">Model: \"gemma_causal_lm\"</span>\n",
              "</pre>\n"
            ]
          },
          "metadata": {}
        },
        {
          "output_type": "display_data",
          "data": {
            "text/plain": [
              "┏━━━━━━━━━━━━━━━━━━━━━━━━━━━━━━━┳━━━━━━━━━━━━━━━━━━━━━━━━━━━┳━━━━━━━━━━━━━━━━━┳━━━━━━━━━━━━━━━━━━━━━━━━━━━━┓\n",
              "┃\u001b[1m \u001b[0m\u001b[1mLayer (type)                 \u001b[0m\u001b[1m \u001b[0m┃\u001b[1m \u001b[0m\u001b[1mOutput Shape             \u001b[0m\u001b[1m \u001b[0m┃\u001b[1m \u001b[0m\u001b[1m        Param #\u001b[0m\u001b[1m \u001b[0m┃\u001b[1m \u001b[0m\u001b[1mConnected to              \u001b[0m\u001b[1m \u001b[0m┃\n",
              "┡━━━━━━━━━━━━━━━━━━━━━━━━━━━━━━━╇━━━━━━━━━━━━━━━━━━━━━━━━━━━╇━━━━━━━━━━━━━━━━━╇━━━━━━━━━━━━━━━━━━━━━━━━━━━━┩\n",
              "│ padding_mask (\u001b[38;5;33mInputLayer\u001b[0m)     │ (\u001b[38;5;45mNone\u001b[0m, \u001b[38;5;45mNone\u001b[0m)              │               \u001b[38;5;34m0\u001b[0m │ -                          │\n",
              "├───────────────────────────────┼───────────────────────────┼─────────────────┼────────────────────────────┤\n",
              "│ token_ids (\u001b[38;5;33mInputLayer\u001b[0m)        │ (\u001b[38;5;45mNone\u001b[0m, \u001b[38;5;45mNone\u001b[0m)              │               \u001b[38;5;34m0\u001b[0m │ -                          │\n",
              "├───────────────────────────────┼───────────────────────────┼─────────────────┼────────────────────────────┤\n",
              "│ gemma_backbone                │ (\u001b[38;5;45mNone\u001b[0m, \u001b[38;5;45mNone\u001b[0m, \u001b[38;5;34m2304\u001b[0m)        │   \u001b[38;5;34m2,614,341,888\u001b[0m │ padding_mask[\u001b[38;5;34m0\u001b[0m][\u001b[38;5;34m0\u001b[0m],        │\n",
              "│ (\u001b[38;5;33mGemmaBackbone\u001b[0m)               │                           │                 │ token_ids[\u001b[38;5;34m0\u001b[0m][\u001b[38;5;34m0\u001b[0m]            │\n",
              "├───────────────────────────────┼───────────────────────────┼─────────────────┼────────────────────────────┤\n",
              "│ token_embedding               │ (\u001b[38;5;45mNone\u001b[0m, \u001b[38;5;45mNone\u001b[0m, \u001b[38;5;34m256000\u001b[0m)      │     \u001b[38;5;34m589,824,000\u001b[0m │ gemma_backbone[\u001b[38;5;34m0\u001b[0m][\u001b[38;5;34m0\u001b[0m]       │\n",
              "│ (\u001b[38;5;33mReversibleEmbedding\u001b[0m)         │                           │                 │                            │\n",
              "└───────────────────────────────┴───────────────────────────┴─────────────────┴────────────────────────────┘\n"
            ],
            "text/html": [
              "<pre style=\"white-space:pre;overflow-x:auto;line-height:normal;font-family:Menlo,'DejaVu Sans Mono',consolas,'Courier New',monospace\">┏━━━━━━━━━━━━━━━━━━━━━━━━━━━━━━━┳━━━━━━━━━━━━━━━━━━━━━━━━━━━┳━━━━━━━━━━━━━━━━━┳━━━━━━━━━━━━━━━━━━━━━━━━━━━━┓\n",
              "┃<span style=\"font-weight: bold\"> Layer (type)                  </span>┃<span style=\"font-weight: bold\"> Output Shape              </span>┃<span style=\"font-weight: bold\">         Param # </span>┃<span style=\"font-weight: bold\"> Connected to               </span>┃\n",
              "┡━━━━━━━━━━━━━━━━━━━━━━━━━━━━━━━╇━━━━━━━━━━━━━━━━━━━━━━━━━━━╇━━━━━━━━━━━━━━━━━╇━━━━━━━━━━━━━━━━━━━━━━━━━━━━┩\n",
              "│ padding_mask (<span style=\"color: #0087ff; text-decoration-color: #0087ff\">InputLayer</span>)     │ (<span style=\"color: #00d7ff; text-decoration-color: #00d7ff\">None</span>, <span style=\"color: #00d7ff; text-decoration-color: #00d7ff\">None</span>)              │               <span style=\"color: #00af00; text-decoration-color: #00af00\">0</span> │ -                          │\n",
              "├───────────────────────────────┼───────────────────────────┼─────────────────┼────────────────────────────┤\n",
              "│ token_ids (<span style=\"color: #0087ff; text-decoration-color: #0087ff\">InputLayer</span>)        │ (<span style=\"color: #00d7ff; text-decoration-color: #00d7ff\">None</span>, <span style=\"color: #00d7ff; text-decoration-color: #00d7ff\">None</span>)              │               <span style=\"color: #00af00; text-decoration-color: #00af00\">0</span> │ -                          │\n",
              "├───────────────────────────────┼───────────────────────────┼─────────────────┼────────────────────────────┤\n",
              "│ gemma_backbone                │ (<span style=\"color: #00d7ff; text-decoration-color: #00d7ff\">None</span>, <span style=\"color: #00d7ff; text-decoration-color: #00d7ff\">None</span>, <span style=\"color: #00af00; text-decoration-color: #00af00\">2304</span>)        │   <span style=\"color: #00af00; text-decoration-color: #00af00\">2,614,341,888</span> │ padding_mask[<span style=\"color: #00af00; text-decoration-color: #00af00\">0</span>][<span style=\"color: #00af00; text-decoration-color: #00af00\">0</span>],        │\n",
              "│ (<span style=\"color: #0087ff; text-decoration-color: #0087ff\">GemmaBackbone</span>)               │                           │                 │ token_ids[<span style=\"color: #00af00; text-decoration-color: #00af00\">0</span>][<span style=\"color: #00af00; text-decoration-color: #00af00\">0</span>]            │\n",
              "├───────────────────────────────┼───────────────────────────┼─────────────────┼────────────────────────────┤\n",
              "│ token_embedding               │ (<span style=\"color: #00d7ff; text-decoration-color: #00d7ff\">None</span>, <span style=\"color: #00d7ff; text-decoration-color: #00d7ff\">None</span>, <span style=\"color: #00af00; text-decoration-color: #00af00\">256000</span>)      │     <span style=\"color: #00af00; text-decoration-color: #00af00\">589,824,000</span> │ gemma_backbone[<span style=\"color: #00af00; text-decoration-color: #00af00\">0</span>][<span style=\"color: #00af00; text-decoration-color: #00af00\">0</span>]       │\n",
              "│ (<span style=\"color: #0087ff; text-decoration-color: #0087ff\">ReversibleEmbedding</span>)         │                           │                 │                            │\n",
              "└───────────────────────────────┴───────────────────────────┴─────────────────┴────────────────────────────┘\n",
              "</pre>\n"
            ]
          },
          "metadata": {}
        },
        {
          "output_type": "display_data",
          "data": {
            "text/plain": [
              "\u001b[1m Total params: \u001b[0m\u001b[38;5;34m2,614,341,888\u001b[0m (9.74 GB)\n"
            ],
            "text/html": [
              "<pre style=\"white-space:pre;overflow-x:auto;line-height:normal;font-family:Menlo,'DejaVu Sans Mono',consolas,'Courier New',monospace\"><span style=\"font-weight: bold\"> Total params: </span><span style=\"color: #00af00; text-decoration-color: #00af00\">2,614,341,888</span> (9.74 GB)\n",
              "</pre>\n"
            ]
          },
          "metadata": {}
        },
        {
          "output_type": "display_data",
          "data": {
            "text/plain": [
              "\u001b[1m Trainable params: \u001b[0m\u001b[38;5;34m2,614,341,888\u001b[0m (9.74 GB)\n"
            ],
            "text/html": [
              "<pre style=\"white-space:pre;overflow-x:auto;line-height:normal;font-family:Menlo,'DejaVu Sans Mono',consolas,'Courier New',monospace\"><span style=\"font-weight: bold\"> Trainable params: </span><span style=\"color: #00af00; text-decoration-color: #00af00\">2,614,341,888</span> (9.74 GB)\n",
              "</pre>\n"
            ]
          },
          "metadata": {}
        },
        {
          "output_type": "display_data",
          "data": {
            "text/plain": [
              "\u001b[1m Non-trainable params: \u001b[0m\u001b[38;5;34m0\u001b[0m (0.00 B)\n"
            ],
            "text/html": [
              "<pre style=\"white-space:pre;overflow-x:auto;line-height:normal;font-family:Menlo,'DejaVu Sans Mono',consolas,'Courier New',monospace\"><span style=\"font-weight: bold\"> Non-trainable params: </span><span style=\"color: #00af00; text-decoration-color: #00af00\">0</span> (0.00 B)\n",
              "</pre>\n"
            ]
          },
          "metadata": {}
        }
      ],
      "execution_count": 10
    },
    {
      "cell_type": "markdown",
      "source": [
        "## Inference Without Fine tuning\n",
        "Now lets test the model without fine tuning the model.\n",
        "\n",
        "Lets create a few helper functions first."
      ],
      "metadata": {
        "id": "z65LgY8bwElb"
      }
    },
    {
      "cell_type": "code",
      "source": [
        "## A helper method to add colors\n",
        "def colorize_text(text):\n",
        "    for word, color in zip([\"Instruction\", \"Response\"], [\"blue\", \"green\"]):\n",
        "        text = text.replace(f\"\\n\\n{word}:\", f\"\\n\\n**<font color='{color}'>{word}:</font>**\")\n",
        "    return text"
      ],
      "metadata": {
        "trusted": true,
        "execution": {
          "iopub.status.busy": "2025-01-14T21:24:16.614009Z",
          "iopub.execute_input": "2025-01-14T21:24:16.614339Z",
          "iopub.status.idle": "2025-01-14T21:24:16.618977Z",
          "shell.execute_reply.started": "2025-01-14T21:24:16.614316Z",
          "shell.execute_reply": "2025-01-14T21:24:16.618009Z"
        },
        "id": "2wD9B6-WwElb"
      },
      "outputs": [],
      "execution_count": 11
    },
    {
      "cell_type": "code",
      "source": [
        "# Helper method to return Q&A\n",
        "class GemmaInstruct:\n",
        "    def __init__(self, max_length=1024):\n",
        "        self.max_length = max_length\n",
        "        self.prompt = \"Instruction:\\n{instruction}\\n\\nResponse:\\n{response}\"\n",
        "        self.gemma_lm = gemma_lm\n",
        "\n",
        "    def query(self, question):\n",
        "        response = self.gemma_lm.generate(\n",
        "            self.prompt.format(instruction=question, response=\"\"), max_length=self.max_length)\n",
        "        display(Markdown(colorize_text(response)))"
      ],
      "metadata": {
        "trusted": true,
        "execution": {
          "iopub.status.busy": "2025-01-14T21:24:20.403608Z",
          "iopub.execute_input": "2025-01-14T21:24:20.403981Z",
          "iopub.status.idle": "2025-01-14T21:24:20.409174Z",
          "shell.execute_reply.started": "2025-01-14T21:24:20.403949Z",
          "shell.execute_reply": "2025-01-14T21:24:20.40825Z"
        },
        "id": "iwchAsSWwElb"
      },
      "outputs": [],
      "execution_count": 12
    },
    {
      "cell_type": "markdown",
      "source": [
        "### Lets test the model\n",
        "\n",
        "Here we are asking the model about the biggest festival  of West Bengal, India, which is called [Durga Puja](https://en.wikipedia.org/wiki/Durga_Puja) I am asking the model to answer a brief history of the festival."
      ],
      "metadata": {
        "id": "9pRBXr_LwElb"
      }
    },
    {
      "cell_type": "code",
      "source": [
        "gemma_inst = GemmaInstruct()\n",
        "query = \"দুর্গাপূজার ইতিহাসের সংক্ষিপ্তসার লেখো বাংলা ভাষায়।\"\n",
        "gemma_inst.query(query)\n"
      ],
      "metadata": {
        "trusted": true,
        "execution": {
          "iopub.status.busy": "2025-01-14T21:24:25.523765Z",
          "iopub.execute_input": "2025-01-14T21:24:25.524195Z",
          "iopub.status.idle": "2025-01-14T21:25:09.72677Z",
          "shell.execute_reply.started": "2025-01-14T21:24:25.524159Z",
          "shell.execute_reply": "2025-01-14T21:25:09.725964Z"
        },
        "id": "C3d1iZnnwElb",
        "outputId": "20c23474-503b-4b7c-881d-4bde581e7d8a",
        "colab": {
          "base_uri": "https://localhost:8080/",
          "height": 410
        }
      },
      "outputs": [
        {
          "output_type": "display_data",
          "data": {
            "text/plain": [
              "<IPython.core.display.Markdown object>"
            ],
            "text/markdown": "Instruction:\nদুর্গাপূজার ইতিহাসের সংক্ষিপ্তসার লেখো বাংলা ভাষায়।\n\n**<font color='green'>Response:</font>**\n## দুর্গাপূজা: একটি ইতিহাস\n\nদুর্গাপূজা, বাংলাদেশের প্রধান পূজা। এটি হলো শ্রীকৃষ্ণের প্রতি আকৃষ্ট এবং দুর্গাপূজার পূর্বে প্রতিষ্ঠিত হওয়া একটি পূজা। \n\n**ইতিহাস:**\n\n* **প্রাচীন সময়ে:** দুর্গাপূজা প্রাচীন সময়েও অনুষ্ঠিত হতো। \n* **ব্রাহ্মণদের দ্বারা:** ব্রাহ্মণরা দুর্গাপূজা পূজা করতো। \n* **কালীনীতির প্রভাব:** কালীনীতির প্রভাব দুর্গাপূজার পূর্বে প্রতিষ্ঠিত হওয়া একটি পূজা। \n\n**প্রধান উপাদান:**\n\n* **শ্রীকৃষ্ণের প্রতি আকৃষ্ট:** দুর্গাপূজা শ্রীকৃষ্ণের প্রতি আকৃষ্ট। \n* **দুর্গাপূজার পূর্বে প্রতিষ্ঠিত হওয়া:** দুর্গাপূজা পূর্বে প্রতিষ্ঠিত হওয়া একটি পূজা। \n\n**অন্যান্য তথ্য:**\n\n* **দুর্গাপূজা সম্পর্কে বেশ কিছু গল্প রয়েছে।**\n* **দুর্গাপূজা অনুষ্ঠিত হয় বর্ষা মাসে।**\n* **দুর্গাপূজা অনুষ্ঠিত হয় বৃহস্পতিবার।**\n\n\n**উপসংহার:**\n\nদুর্গাপূজা একটি প্রাচীন পূজা যা শ্রীকৃষ্ণের প্রতি আকৃষ্ট। \n<end_of_turn>"
          },
          "metadata": {}
        }
      ],
      "execution_count": 13
    },
    {
      "cell_type": "markdown",
      "source": [
        "## The Result\n",
        "\n",
        "Here I have asked the model to write a few lines about [Durga Puja](https://en.wikipedia.org/wiki/Durga_Puja). Durga Puja, a renowned annual festival celebrated with immense fervor in West Bengal, India, honors the Hindu Goddess Durga. This grand celebration boasts a captivating history, deeply intertwined with the cultural fabric of Bengal.\n",
        "\n",
        "From the result you can see it is just producing incoherent sentences. It is also hallucianting and producing sentences which have no meaning.\n",
        "\n",
        "This is not a good response and lets see with fine tuning if we can improve the result."
      ],
      "metadata": {
        "id": "vKOz7R6JwElc"
      }
    },
    {
      "cell_type": "markdown",
      "source": [
        "## Download the data"
      ],
      "metadata": {
        "id": "8VmorzvuwElc"
      }
    },
    {
      "cell_type": "code",
      "source": [
        "import json\n",
        "file_input_path = \"/kaggle/input/bengali-culture-history-wiki/bengali_culture_wiki.txt\"\n",
        "file_input_path = arnabkarsarkar_bengali_culture_history_wiki_path + '/bengali_culture_wiki.txt'\n",
        "json_data = []\n",
        "# Read the text file\n",
        "with open(file_input_path, 'r', encoding='utf-8') as file:\n",
        "    text_data = file.read()\n",
        "\n",
        "\n",
        "# Convert the text data into JSON list\n",
        "json_data = json.loads(text_data)"
      ],
      "metadata": {
        "trusted": true,
        "execution": {
          "iopub.status.busy": "2025-01-14T21:27:19.770201Z",
          "iopub.execute_input": "2025-01-14T21:27:19.770576Z",
          "iopub.status.idle": "2025-01-14T21:27:19.845237Z",
          "shell.execute_reply.started": "2025-01-14T21:27:19.770552Z",
          "shell.execute_reply": "2025-01-14T21:27:19.844499Z"
        },
        "id": "kuVxjXhiwElc"
      },
      "outputs": [],
      "execution_count": 16
    },
    {
      "cell_type": "code",
      "source": [
        "input_data = []\n",
        "for item in json_data:\n",
        "    template = \"Instruction:\\n{instruction}\\n\\nResponse:\\n{output}\"\n",
        "    input_data.append(template.format(instruction=item['instruction'], output=item['output']))\n",
        "\n",
        "input_data = input_data[-20:]\n",
        "print(input_data[-1])"
      ],
      "metadata": {
        "trusted": true,
        "execution": {
          "iopub.status.busy": "2025-01-14T21:27:22.187755Z",
          "iopub.execute_input": "2025-01-14T21:27:22.188087Z",
          "iopub.status.idle": "2025-01-14T21:27:22.196337Z",
          "shell.execute_reply.started": "2025-01-14T21:27:22.188058Z",
          "shell.execute_reply": "2025-01-14T21:27:22.195472Z"
        },
        "id": "vi3rYAwRwElc",
        "outputId": "d818a918-a425-49db-8727-743170b51966",
        "colab": {
          "base_uri": "https://localhost:8080/"
        }
      },
      "outputs": [
        {
          "output_type": "stream",
          "name": "stdout",
          "text": [
            "Instruction:\n",
            "কুমারী পূজার রীতি ও তাৎপর্য ব্যাখ্যা করো।\n",
            "\n",
            "Response:\n",
            "কুমারী পূজা হল ষোলো বছরের কম বয়সী অরুজঃস্বলা কন্যাকে দেবী রূপে পূজা করার তান্ত্রিক রীতি।  এটি দুর্গাপূজার একটি গুরুত্বপূর্ণ অঙ্গ এবং অন্যান্য শক্তিপীঠেও অনুষ্ঠিত হয়।  বিভিন্ন বয়সের কন্যাকে বিভিন্ন দেবীর নামে পূজা করা হয় বলে বিশ্বাস।  তন্ত্রমতে, ঋতুমতী না হওয়া পর্যন্ত কন্যারা দেবীরূপে পূজিত হতে পারে।  কুমারী কন্যাকে খাওয়ানোকে বিশ্বভুবনকে খাওয়ানোর সমান গুরুত্ব দেওয়া হয়।\n"
          ]
        }
      ],
      "execution_count": 17
    },
    {
      "cell_type": "markdown",
      "source": [
        "## LORA FineTuning\n",
        "\n",
        "To get better resoponses we want to fine tune the model using  Low Rank Adaptation method(LORA)"
      ],
      "metadata": {
        "id": "WqkmATtXwElf"
      }
    },
    {
      "cell_type": "code",
      "source": [
        "gemma_lm.backbone.enable_lora(rank=lora_rank)\n",
        "gemma_lm.summary()"
      ],
      "metadata": {
        "trusted": true,
        "execution": {
          "iopub.status.busy": "2025-01-14T21:27:42.447571Z",
          "iopub.execute_input": "2025-01-14T21:27:42.447949Z",
          "iopub.status.idle": "2025-01-14T21:27:42.766735Z",
          "shell.execute_reply.started": "2025-01-14T21:27:42.447915Z",
          "shell.execute_reply": "2025-01-14T21:27:42.765838Z"
        },
        "id": "86OIDGYtwElf",
        "outputId": "34dbe849-0d55-4608-dcac-e1a503cb8996",
        "colab": {
          "base_uri": "https://localhost:8080/",
          "height": 397
        }
      },
      "outputs": [
        {
          "output_type": "display_data",
          "data": {
            "text/plain": [
              "\u001b[1mPreprocessor: \"gemma_causal_lm_preprocessor\"\u001b[0m\n"
            ],
            "text/html": [
              "<pre style=\"white-space:pre;overflow-x:auto;line-height:normal;font-family:Menlo,'DejaVu Sans Mono',consolas,'Courier New',monospace\"><span style=\"font-weight: bold\">Preprocessor: \"gemma_causal_lm_preprocessor\"</span>\n",
              "</pre>\n"
            ]
          },
          "metadata": {}
        },
        {
          "output_type": "display_data",
          "data": {
            "text/plain": [
              "┏━━━━━━━━━━━━━━━━━━━━━━━━━━━━━━━━━━━━━━━━━━━━━━━━━━━━━━━━━━━━━━━┳━━━━━━━━━━━━━━━━━━━━━━━━━━━━━━━━━━━━━━━━━━┓\n",
              "┃\u001b[1m \u001b[0m\u001b[1mLayer (type)                                                 \u001b[0m\u001b[1m \u001b[0m┃\u001b[1m \u001b[0m\u001b[1m                                  Config\u001b[0m\u001b[1m \u001b[0m┃\n",
              "┡━━━━━━━━━━━━━━━━━━━━━━━━━━━━━━━━━━━━━━━━━━━━━━━━━━━━━━━━━━━━━━━╇━━━━━━━━━━━━━━━━━━━━━━━━━━━━━━━━━━━━━━━━━━┩\n",
              "│ gemma_tokenizer (\u001b[38;5;33mGemmaTokenizer\u001b[0m)                              │                      Vocab size: \u001b[38;5;34m256,000\u001b[0m │\n",
              "└───────────────────────────────────────────────────────────────┴──────────────────────────────────────────┘\n"
            ],
            "text/html": [
              "<pre style=\"white-space:pre;overflow-x:auto;line-height:normal;font-family:Menlo,'DejaVu Sans Mono',consolas,'Courier New',monospace\">┏━━━━━━━━━━━━━━━━━━━━━━━━━━━━━━━━━━━━━━━━━━━━━━━━━━━━━━━━━━━━━━━┳━━━━━━━━━━━━━━━━━━━━━━━━━━━━━━━━━━━━━━━━━━┓\n",
              "┃<span style=\"font-weight: bold\"> Layer (type)                                                  </span>┃<span style=\"font-weight: bold\">                                   Config </span>┃\n",
              "┡━━━━━━━━━━━━━━━━━━━━━━━━━━━━━━━━━━━━━━━━━━━━━━━━━━━━━━━━━━━━━━━╇━━━━━━━━━━━━━━━━━━━━━━━━━━━━━━━━━━━━━━━━━━┩\n",
              "│ gemma_tokenizer (<span style=\"color: #0087ff; text-decoration-color: #0087ff\">GemmaTokenizer</span>)                              │                      Vocab size: <span style=\"color: #00af00; text-decoration-color: #00af00\">256,000</span> │\n",
              "└───────────────────────────────────────────────────────────────┴──────────────────────────────────────────┘\n",
              "</pre>\n"
            ]
          },
          "metadata": {}
        },
        {
          "output_type": "display_data",
          "data": {
            "text/plain": [
              "\u001b[1mModel: \"gemma_causal_lm\"\u001b[0m\n"
            ],
            "text/html": [
              "<pre style=\"white-space:pre;overflow-x:auto;line-height:normal;font-family:Menlo,'DejaVu Sans Mono',consolas,'Courier New',monospace\"><span style=\"font-weight: bold\">Model: \"gemma_causal_lm\"</span>\n",
              "</pre>\n"
            ]
          },
          "metadata": {}
        },
        {
          "output_type": "display_data",
          "data": {
            "text/plain": [
              "┏━━━━━━━━━━━━━━━━━━━━━━━━━━━━━━━┳━━━━━━━━━━━━━━━━━━━━━━━━━━━┳━━━━━━━━━━━━━━━━━┳━━━━━━━━━━━━━━━━━━━━━━━━━━━━┓\n",
              "┃\u001b[1m \u001b[0m\u001b[1mLayer (type)                 \u001b[0m\u001b[1m \u001b[0m┃\u001b[1m \u001b[0m\u001b[1mOutput Shape             \u001b[0m\u001b[1m \u001b[0m┃\u001b[1m \u001b[0m\u001b[1m        Param #\u001b[0m\u001b[1m \u001b[0m┃\u001b[1m \u001b[0m\u001b[1mConnected to              \u001b[0m\u001b[1m \u001b[0m┃\n",
              "┡━━━━━━━━━━━━━━━━━━━━━━━━━━━━━━━╇━━━━━━━━━━━━━━━━━━━━━━━━━━━╇━━━━━━━━━━━━━━━━━╇━━━━━━━━━━━━━━━━━━━━━━━━━━━━┩\n",
              "│ padding_mask (\u001b[38;5;33mInputLayer\u001b[0m)     │ (\u001b[38;5;45mNone\u001b[0m, \u001b[38;5;45mNone\u001b[0m)              │               \u001b[38;5;34m0\u001b[0m │ -                          │\n",
              "├───────────────────────────────┼───────────────────────────┼─────────────────┼────────────────────────────┤\n",
              "│ token_ids (\u001b[38;5;33mInputLayer\u001b[0m)        │ (\u001b[38;5;45mNone\u001b[0m, \u001b[38;5;45mNone\u001b[0m)              │               \u001b[38;5;34m0\u001b[0m │ -                          │\n",
              "├───────────────────────────────┼───────────────────────────┼─────────────────┼────────────────────────────┤\n",
              "│ gemma_backbone                │ (\u001b[38;5;45mNone\u001b[0m, \u001b[38;5;45mNone\u001b[0m, \u001b[38;5;34m2304\u001b[0m)        │   \u001b[38;5;34m2,617,270,528\u001b[0m │ padding_mask[\u001b[38;5;34m0\u001b[0m][\u001b[38;5;34m0\u001b[0m],        │\n",
              "│ (\u001b[38;5;33mGemmaBackbone\u001b[0m)               │                           │                 │ token_ids[\u001b[38;5;34m0\u001b[0m][\u001b[38;5;34m0\u001b[0m]            │\n",
              "├───────────────────────────────┼───────────────────────────┼─────────────────┼────────────────────────────┤\n",
              "│ token_embedding               │ (\u001b[38;5;45mNone\u001b[0m, \u001b[38;5;45mNone\u001b[0m, \u001b[38;5;34m256000\u001b[0m)      │     \u001b[38;5;34m589,824,000\u001b[0m │ gemma_backbone[\u001b[38;5;34m0\u001b[0m][\u001b[38;5;34m0\u001b[0m]       │\n",
              "│ (\u001b[38;5;33mReversibleEmbedding\u001b[0m)         │                           │                 │                            │\n",
              "└───────────────────────────────┴───────────────────────────┴─────────────────┴────────────────────────────┘\n"
            ],
            "text/html": [
              "<pre style=\"white-space:pre;overflow-x:auto;line-height:normal;font-family:Menlo,'DejaVu Sans Mono',consolas,'Courier New',monospace\">┏━━━━━━━━━━━━━━━━━━━━━━━━━━━━━━━┳━━━━━━━━━━━━━━━━━━━━━━━━━━━┳━━━━━━━━━━━━━━━━━┳━━━━━━━━━━━━━━━━━━━━━━━━━━━━┓\n",
              "┃<span style=\"font-weight: bold\"> Layer (type)                  </span>┃<span style=\"font-weight: bold\"> Output Shape              </span>┃<span style=\"font-weight: bold\">         Param # </span>┃<span style=\"font-weight: bold\"> Connected to               </span>┃\n",
              "┡━━━━━━━━━━━━━━━━━━━━━━━━━━━━━━━╇━━━━━━━━━━━━━━━━━━━━━━━━━━━╇━━━━━━━━━━━━━━━━━╇━━━━━━━━━━━━━━━━━━━━━━━━━━━━┩\n",
              "│ padding_mask (<span style=\"color: #0087ff; text-decoration-color: #0087ff\">InputLayer</span>)     │ (<span style=\"color: #00d7ff; text-decoration-color: #00d7ff\">None</span>, <span style=\"color: #00d7ff; text-decoration-color: #00d7ff\">None</span>)              │               <span style=\"color: #00af00; text-decoration-color: #00af00\">0</span> │ -                          │\n",
              "├───────────────────────────────┼───────────────────────────┼─────────────────┼────────────────────────────┤\n",
              "│ token_ids (<span style=\"color: #0087ff; text-decoration-color: #0087ff\">InputLayer</span>)        │ (<span style=\"color: #00d7ff; text-decoration-color: #00d7ff\">None</span>, <span style=\"color: #00d7ff; text-decoration-color: #00d7ff\">None</span>)              │               <span style=\"color: #00af00; text-decoration-color: #00af00\">0</span> │ -                          │\n",
              "├───────────────────────────────┼───────────────────────────┼─────────────────┼────────────────────────────┤\n",
              "│ gemma_backbone                │ (<span style=\"color: #00d7ff; text-decoration-color: #00d7ff\">None</span>, <span style=\"color: #00d7ff; text-decoration-color: #00d7ff\">None</span>, <span style=\"color: #00af00; text-decoration-color: #00af00\">2304</span>)        │   <span style=\"color: #00af00; text-decoration-color: #00af00\">2,617,270,528</span> │ padding_mask[<span style=\"color: #00af00; text-decoration-color: #00af00\">0</span>][<span style=\"color: #00af00; text-decoration-color: #00af00\">0</span>],        │\n",
              "│ (<span style=\"color: #0087ff; text-decoration-color: #0087ff\">GemmaBackbone</span>)               │                           │                 │ token_ids[<span style=\"color: #00af00; text-decoration-color: #00af00\">0</span>][<span style=\"color: #00af00; text-decoration-color: #00af00\">0</span>]            │\n",
              "├───────────────────────────────┼───────────────────────────┼─────────────────┼────────────────────────────┤\n",
              "│ token_embedding               │ (<span style=\"color: #00d7ff; text-decoration-color: #00d7ff\">None</span>, <span style=\"color: #00d7ff; text-decoration-color: #00d7ff\">None</span>, <span style=\"color: #00af00; text-decoration-color: #00af00\">256000</span>)      │     <span style=\"color: #00af00; text-decoration-color: #00af00\">589,824,000</span> │ gemma_backbone[<span style=\"color: #00af00; text-decoration-color: #00af00\">0</span>][<span style=\"color: #00af00; text-decoration-color: #00af00\">0</span>]       │\n",
              "│ (<span style=\"color: #0087ff; text-decoration-color: #0087ff\">ReversibleEmbedding</span>)         │                           │                 │                            │\n",
              "└───────────────────────────────┴───────────────────────────┴─────────────────┴────────────────────────────┘\n",
              "</pre>\n"
            ]
          },
          "metadata": {}
        },
        {
          "output_type": "display_data",
          "data": {
            "text/plain": [
              "\u001b[1m Total params: \u001b[0m\u001b[38;5;34m2,617,270,528\u001b[0m (9.75 GB)\n"
            ],
            "text/html": [
              "<pre style=\"white-space:pre;overflow-x:auto;line-height:normal;font-family:Menlo,'DejaVu Sans Mono',consolas,'Courier New',monospace\"><span style=\"font-weight: bold\"> Total params: </span><span style=\"color: #00af00; text-decoration-color: #00af00\">2,617,270,528</span> (9.75 GB)\n",
              "</pre>\n"
            ]
          },
          "metadata": {}
        },
        {
          "output_type": "display_data",
          "data": {
            "text/plain": [
              "\u001b[1m Trainable params: \u001b[0m\u001b[38;5;34m2,928,640\u001b[0m (11.17 MB)\n"
            ],
            "text/html": [
              "<pre style=\"white-space:pre;overflow-x:auto;line-height:normal;font-family:Menlo,'DejaVu Sans Mono',consolas,'Courier New',monospace\"><span style=\"font-weight: bold\"> Trainable params: </span><span style=\"color: #00af00; text-decoration-color: #00af00\">2,928,640</span> (11.17 MB)\n",
              "</pre>\n"
            ]
          },
          "metadata": {}
        },
        {
          "output_type": "display_data",
          "data": {
            "text/plain": [
              "\u001b[1m Non-trainable params: \u001b[0m\u001b[38;5;34m2,614,341,888\u001b[0m (9.74 GB)\n"
            ],
            "text/html": [
              "<pre style=\"white-space:pre;overflow-x:auto;line-height:normal;font-family:Menlo,'DejaVu Sans Mono',consolas,'Courier New',monospace\"><span style=\"font-weight: bold\"> Non-trainable params: </span><span style=\"color: #00af00; text-decoration-color: #00af00\">2,614,341,888</span> (9.74 GB)\n",
              "</pre>\n"
            ]
          },
          "metadata": {}
        }
      ],
      "execution_count": 18
    },
    {
      "cell_type": "markdown",
      "source": [
        "Now that we have seen the LORA has reduced the trainable parameter to 2.9M, lets go ahead and setup the training."
      ],
      "metadata": {
        "id": "_EzLf4a4wElf"
      }
    },
    {
      "cell_type": "code",
      "source": [
        "\n",
        "gemma_lm.preprocessor.sequence_length = 256\n",
        "# Use AdamW (a common optimizer for transformer models).\n",
        "optimizer = keras.optimizers.AdamW(\n",
        "    learning_rate=lr_value,\n",
        "    weight_decay=0.01,\n",
        ")\n",
        "optimizer.exclude_from_weight_decay(var_names=[\"bias\", \"scale\"])\n",
        "\n",
        "gemma_lm.compile(\n",
        "    loss=keras.losses.SparseCategoricalCrossentropy(from_logits=True),\n",
        "    optimizer=optimizer,\n",
        "    weighted_metrics=[keras.metrics.SparseCategoricalAccuracy()],\n",
        ")\n",
        "history = gemma_lm.fit(input_data, epochs=train_epoch, batch_size=batch_size)\n"
      ],
      "metadata": {
        "trusted": true,
        "execution": {
          "iopub.status.busy": "2025-01-14T21:27:48.254367Z",
          "iopub.execute_input": "2025-01-14T21:27:48.254681Z",
          "iopub.status.idle": "2025-01-14T21:32:39.564035Z",
          "shell.execute_reply.started": "2025-01-14T21:27:48.254658Z",
          "shell.execute_reply": "2025-01-14T21:32:39.563262Z"
        },
        "id": "rJe0nL3fwElf",
        "outputId": "9dbbfe91-eac1-4d84-dce5-0206167d103b",
        "colab": {
          "base_uri": "https://localhost:8080/"
        }
      },
      "outputs": [
        {
          "output_type": "stream",
          "name": "stdout",
          "text": [
            "Epoch 1/10\n",
            "\u001b[1m20/20\u001b[0m \u001b[32m━━━━━━━━━━━━━━━━━━━━\u001b[0m\u001b[37m\u001b[0m \u001b[1m78s\u001b[0m 2s/step - loss: 1.6417 - sparse_categorical_accuracy: 0.5718\n",
            "Epoch 2/10\n",
            "\u001b[1m20/20\u001b[0m \u001b[32m━━━━━━━━━━━━━━━━━━━━\u001b[0m\u001b[37m\u001b[0m \u001b[1m42s\u001b[0m 968ms/step - loss: 1.5917 - sparse_categorical_accuracy: 0.5822\n",
            "Epoch 3/10\n",
            "\u001b[1m20/20\u001b[0m \u001b[32m━━━━━━━━━━━━━━━━━━━━\u001b[0m\u001b[37m\u001b[0m \u001b[1m17s\u001b[0m 839ms/step - loss: 1.5050 - sparse_categorical_accuracy: 0.6042\n",
            "Epoch 4/10\n",
            "\u001b[1m20/20\u001b[0m \u001b[32m━━━━━━━━━━━━━━━━━━━━\u001b[0m\u001b[37m\u001b[0m \u001b[1m17s\u001b[0m 855ms/step - loss: 1.4070 - sparse_categorical_accuracy: 0.6226\n",
            "Epoch 5/10\n",
            "\u001b[1m20/20\u001b[0m \u001b[32m━━━━━━━━━━━━━━━━━━━━\u001b[0m\u001b[37m\u001b[0m \u001b[1m21s\u001b[0m 1s/step - loss: 1.3181 - sparse_categorical_accuracy: 0.6439\n",
            "Epoch 6/10\n",
            "\u001b[1m20/20\u001b[0m \u001b[32m━━━━━━━━━━━━━━━━━━━━\u001b[0m\u001b[37m\u001b[0m \u001b[1m22s\u001b[0m 1s/step - loss: 1.2392 - sparse_categorical_accuracy: 0.6607\n",
            "Epoch 7/10\n",
            "\u001b[1m20/20\u001b[0m \u001b[32m━━━━━━━━━━━━━━━━━━━━\u001b[0m\u001b[37m\u001b[0m \u001b[1m22s\u001b[0m 1s/step - loss: 1.1630 - sparse_categorical_accuracy: 0.6815\n",
            "Epoch 8/10\n",
            "\u001b[1m20/20\u001b[0m \u001b[32m━━━━━━━━━━━━━━━━━━━━\u001b[0m\u001b[37m\u001b[0m \u001b[1m21s\u001b[0m 1s/step - loss: 1.0842 - sparse_categorical_accuracy: 0.7016\n",
            "Epoch 9/10\n",
            "\u001b[1m20/20\u001b[0m \u001b[32m━━━━━━━━━━━━━━━━━━━━\u001b[0m\u001b[37m\u001b[0m \u001b[1m22s\u001b[0m 1s/step - loss: 0.9979 - sparse_categorical_accuracy: 0.7249\n",
            "Epoch 10/10\n",
            "\u001b[1m20/20\u001b[0m \u001b[32m━━━━━━━━━━━━━━━━━━━━\u001b[0m\u001b[37m\u001b[0m \u001b[1m22s\u001b[0m 1s/step - loss: 0.9013 - sparse_categorical_accuracy: 0.7536\n"
          ]
        }
      ],
      "execution_count": 19
    },
    {
      "cell_type": "markdown",
      "source": [
        "### Plotting the loss graph"
      ],
      "metadata": {
        "id": "r51XEX87wElf"
      }
    },
    {
      "cell_type": "code",
      "source": [
        "plt.plot(history.history['loss'])\n",
        "plt.show()"
      ],
      "metadata": {
        "trusted": true,
        "execution": {
          "iopub.status.busy": "2025-01-14T21:32:59.568003Z",
          "iopub.execute_input": "2025-01-14T21:32:59.568556Z",
          "iopub.status.idle": "2025-01-14T21:32:59.80171Z",
          "shell.execute_reply.started": "2025-01-14T21:32:59.568509Z",
          "shell.execute_reply": "2025-01-14T21:32:59.800574Z"
        },
        "id": "IzR2DMy2wElf",
        "outputId": "f5e7a8fb-7435-424c-a2e0-5d15a744f065",
        "colab": {
          "base_uri": "https://localhost:8080/",
          "height": 430
        }
      },
      "outputs": [
        {
          "output_type": "display_data",
          "data": {
            "text/plain": [
              "<Figure size 640x480 with 1 Axes>"
            ],
            "image/png": "[encoded data removed]"
          },
          "metadata": {}
        }
      ],
      "execution_count": 20
    },
    {
      "cell_type": "markdown",
      "source": [
        "#### Lets see how the code is working."
      ],
      "metadata": {
        "id": "PylIXlbMwElf"
      }
    },
    {
      "cell_type": "code",
      "source": [
        "# We will first try with the query above.\n",
        "gemma_inst.query(query)"
      ],
      "metadata": {
        "trusted": true,
        "execution": {
          "iopub.status.busy": "2025-01-14T21:33:09.29859Z",
          "iopub.execute_input": "2025-01-14T21:33:09.298935Z",
          "iopub.status.idle": "2025-01-14T21:33:37.680452Z",
          "shell.execute_reply.started": "2025-01-14T21:33:09.298906Z",
          "shell.execute_reply": "2025-01-14T21:33:37.67947Z"
        },
        "id": "8RB_mGbVwElg",
        "outputId": "5957a0d0-308d-4f64-902d-ae8c9882cce3",
        "colab": {
          "base_uri": "https://localhost:8080/",
          "height": 104
        }
      },
      "outputs": [
        {
          "output_type": "display_data",
          "data": {
            "text/plain": [
              "<IPython.core.display.Markdown object>"
            ],
            "text/markdown": "Instruction:\nদুর্গাপূজার ইতিহাসের সংক্ষিপ্তসার লেখো বাংলা ভাষায়।\n\n**<font color='green'>Response:</font>**\nদুর্গাপূজা হল পবিত্র দুর্গা মন্দিরে মহালয়ের প্রতি আশা ও অনুগামী প্রতিবাদের উপর ভিত্তি করে পুরাণের আলোকায়িত  কাহিনী অনুসারে মহিষারাণের বিরুদ্ধে মহিষারাণকে ধ্বংস করার ঘটনাটির উল্লেখ করে একটি পূজা অনুষ্ঠিত করার ইতিহাসের উৎস।  এই পূজার ইতিহাস পুরাণের সাথে জড়িত এবং বর্ণনা দেয়।  এই পূজা বর্তমানে বাংলাদেশ ও ভারতের মহাশয়ের মন্দিরে অনুষ্ঠিত হয়।  "
          },
          "metadata": {}
        }
      ],
      "execution_count": 21
    },
    {
      "cell_type": "markdown",
      "source": [
        "Lets test with a different query. Here I am asking about a renowned Indian writer [Bibhutibhushan Bandyopadhyay](http://https://en.wikipedia.org/wiki/Bibhutibhushan_Bandyopadhyay)\n",
        "\n",
        "It should produce some result."
      ],
      "metadata": {
        "id": "ZTDd-bgkwElg"
      }
    },
    {
      "cell_type": "code",
      "source": [
        "#\n",
        "gemma_inst.query(\"বাংলার নামকরণের পিছনে কী কী ধারণা রয়েছে?\")"
      ],
      "metadata": {
        "trusted": true,
        "execution": {
          "iopub.status.busy": "2025-01-14T21:35:36.90308Z",
          "iopub.execute_input": "2025-01-14T21:35:36.903448Z",
          "iopub.status.idle": "2025-01-14T21:36:54.971451Z",
          "shell.execute_reply.started": "2025-01-14T21:35:36.903422Z",
          "shell.execute_reply": "2025-01-14T21:36:54.970599Z"
        },
        "id": "nsvYZWUYwElg",
        "outputId": "888faf79-a65d-4d06-850d-7b7c90a15fa2",
        "colab": {
          "base_uri": "https://localhost:8080/",
          "height": 87
        }
      },
      "outputs": [
        {
          "output_type": "display_data",
          "data": {
            "text/plain": [
              "<IPython.core.display.Markdown object>"
            ],
            "text/markdown": "Instruction:\nবাংলার নামকরণের পিছনে কী কী ধারণা রয়েছে?\n\n**<font color='green'>Response:</font>**\nবাংলা শব্দের etymology গুলির মতে, এটি \"বঙ্গ\" (বঙ্গা) থেকে এসেছে, যা \"বঙ্গা river\" (বঙ্গের উপত্যকা) বা \"বঙ্গের উপত্যকারাণা\" (বঙ্গের উপত্যকারাণ) এর অর্থে বর্ণিত।  এটি একটি বড় নদী (যেমন ভারতের গঙ্গা) বা বঙ্গের উপত্যকারাণার অর্থে বর্ণিত।  তবে,  মুঘল সম্রাট আকবরের  সময়কালে  এটি \"বাংলা\" (বাংলার উপত্যকা)  এর অর্থে ব্যবহার করা শুরু হয়।  "
          },
          "metadata": {}
        }
      ],
      "execution_count": 22
    },
    {
      "cell_type": "markdown",
      "source": [
        "## Save the trained model"
      ],
      "metadata": {
        "id": "nEeBOJDswElg"
      }
    },
    {
      "cell_type": "code",
      "source": [
        "MODEL_NAME = \"gemma_bengali_history\"\n",
        "gemma_lm.save_to_preset(MODEL_NAME)"
      ],
      "metadata": {
        "trusted": true,
        "id": "HCtLAu1wwElg"
      },
      "outputs": [],
      "execution_count": null
    },
    {
      "cell_type": "markdown",
      "source": [
        "### Upload to Kaggle"
      ],
      "metadata": {
        "id": "Myxqvsr8wElg"
      }
    },
    {
      "cell_type": "code",
      "source": [
        "import  kagglehub\n",
        "from datetime import datetime\n",
        "\n",
        "\n",
        "kaggle_username = kagglehub.whoami()['username']\n",
        "date_today = datetime.today().strftime('%Y-%m-%d')\n",
        "\n",
        "print(kaggle_username)"
      ],
      "metadata": {
        "trusted": true,
        "id": "G4tVMlSswElg"
      },
      "outputs": [],
      "execution_count": null
    },
    {
      "cell_type": "code",
      "source": [
        "MODEL_SLUG = 'bengali_history'\n",
        "\n",
        "kagglehub.model_upload(\n",
        "  handle = f\"{kaggle_username}/{MODEL_NAME}/keras/{MODEL_SLUG}\",\n",
        "  local_model_dir = MODEL_NAME,\n",
        "  version_notes = f'Update {date_today}')"
      ],
      "metadata": {
        "trusted": true,
        "id": "Ls9EjdY0wElg"
      },
      "outputs": [],
      "execution_count": null
    },
    {
      "cell_type": "markdown",
      "source": [
        "## Conclusion\n",
        "\n",
        "This notebook shows a way on how to train Gemma on any Cultural history.We can work on improving this.\n",
        "\n",
        "\n",
        "Is this notebook perfect on describing bengali history and culture? Not yet. But we can improve on it as we get more dataset.\n",
        "\n",
        "* We need to conytinue with the finetuning and need to lower the learning rate.\n",
        "* What we saw in the dataset is that the distribution of the data is too much. We need to santize the data a little bit more.\n",
        "* ALso, the evaluation matrix needs to be implemneted for larger dataset.\n",
        "\n",
        "\n"
      ],
      "metadata": {
        "id": "DrYtO4KgwElg"
      }
    }
  ]
}