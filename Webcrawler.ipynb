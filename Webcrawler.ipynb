{
  "nbformat": 4,
  "nbformat_minor": 0,
  "metadata": {
    "colab": {
      "provenance": [],
      "authorship_tag": "ABX9TyOlGofDJBeJj6clEtxPA4w8",
      "include_colab_link": true
    },
    "kernelspec": {
      "name": "python3",
      "display_name": "Python 3"
    },
    "language_info": {
      "name": "python"
    }
  },
  "cells": [
    {
      "cell_type": "markdown",
      "metadata": {
        "id": "view-in-github",
        "colab_type": "text"
      },
      "source": [
        "<a href=\"https://colab.research.google.com/github/arnabksarkar/LLMFinetuning/blob/dev/Webcrawler.ipynb\" target=\"_parent\"><img src=\"https://colab.research.google.com/assets/colab-badge.svg\" alt=\"Open In Colab\"/></a>"
      ]
    },
    {
      "cell_type": "code",
      "execution_count": 5,
      "metadata": {
        "id": "kVaClFtCdJIV"
      },
      "outputs": [],
      "source": [
        "import requests\n",
        "from bs4 import BeautifulSoup\n",
        "import random"
      ]
    },
    {
      "cell_type": "markdown",
      "source": [
        "### Extract Webpage"
      ],
      "metadata": {
        "id": "trSGXS53dT3S"
      }
    },
    {
      "cell_type": "code",
      "source": [
        "\n",
        "def extract_text_from_webpage(url):\n",
        "    \"\"\"Extracts text content from a given webpage URL and saves it to a text file.\"\"\"\n",
        "\n",
        "    try:\n",
        "        response = requests.get(url)\n",
        "        response.raise_for_status()  # Raise an exception for bad status codes\n",
        "\n",
        "        soup = BeautifulSoup(response.content, 'html.parser')\n",
        "        title = soup.title.string if soup.title else \"Webpage_NO_Title\" + random.randint(10, 99)\n",
        "\n",
        "        print(f\"Title of the webpage: {title}\")\n",
        "\n",
        "        # Extract all text from <p> tags\n",
        "        text_content = \" \".join([p.get_text() for p in soup.find_all('p')])\n",
        "\n",
        "        # Save the extracted text to a file\n",
        "        with open('all_bengali_culture_texts/' + title + '.txt', 'w', encoding='utf-8') as file:\n",
        "            file.write(text_content)\n",
        "\n",
        "        print(f\"Text extracted and saved for {title}\")\n",
        "\n",
        "    except requests.exceptions.RequestException as e:\n",
        "        print(f\"Error: {e}\")"
      ],
      "metadata": {
        "id": "2M8FASnFdkaM"
      },
      "execution_count": 21,
      "outputs": []
    },
    {
      "cell_type": "markdown",
      "source": [
        "### Extract Links from the text"
      ],
      "metadata": {
        "id": "GjsVwq_jezMs"
      }
    },
    {
      "cell_type": "code",
      "source": [
        "def extract_links_from_webpage(url):\n",
        "    \"\"\"Extracts all links from a given webpage URL.\"\"\"\n",
        "\n",
        "    try:\n",
        "        response = requests.get(url)\n",
        "        response.raise_for_status()  # Raise an exception for bad status codes\n",
        "\n",
        "        soup = BeautifulSoup(response.content, 'html.parser')\n",
        "        body = soup.find(\"div\", {\"id\": \"bodyContent\"})\n",
        "        if body:\n",
        "            links = [a['href'] for a in body.find_all('a', href=True)]\n",
        "        else:\n",
        "            links = []\n",
        "\n",
        "        return links\n",
        "\n",
        "    except requests.exceptions.RequestException as e:\n",
        "        print(f\"Error: {e}\")\n",
        "        return []\n"
      ],
      "metadata": {
        "id": "WDyzwJlReaHG"
      },
      "execution_count": 12,
      "outputs": []
    },
    {
      "cell_type": "markdown",
      "source": [
        "### Set how many depths you want to go"
      ],
      "metadata": {
        "id": "cqpdexM1gAjL"
      }
    },
    {
      "cell_type": "code",
      "source": [
        "# ### Set how many depths you want to go\n",
        "maxDepth = 5 # Set the maximum depth to traverse child pages\n",
        "\n",
        "baseURL = 'https://en.wikipedia.org/wiki/Culture_of_Bengal'\n",
        "\n",
        "\n",
        "\n",
        "allLinks = []\n",
        "visitedLinks = set()  # To keep track of visited links\n",
        "\n",
        "def crawl_and_extract_links(url, depth):\n",
        "    if depth > maxDepth or url in visitedLinks:\n",
        "        return\n",
        "    visitedLinks.add(url)\n",
        "\n",
        "    try:\n",
        "        links = extract_links_from_webpage(url)\n",
        "        for link in links:\n",
        "            if link.endswith('.jpg') or link.endswith('.png') or link.endswith('.gif') or link.endswith('.svg'):\n",
        "                continue\n",
        "            if link.startswith('#'):\n",
        "                continue\n",
        "            if '/wiki/Category:' in link:\n",
        "                continue\n",
        "            if '/Help:Category' in link:\n",
        "                continue\n",
        "            if link.startswith('/'):\n",
        "                link = 'https://en.wikipedia.org' + link\n",
        "            allLinks.append(link)\n",
        "            visitedLinks.add(link)\n",
        "            crawl_and_extract_links(link, depth + 1)\n",
        "    except Exception as e:\n",
        "        print(f\"Error processing {url}: {e}\")\n",
        "\n"
      ],
      "metadata": {
        "id": "rUGFbrBGgAH0"
      },
      "execution_count": 19,
      "outputs": []
    },
    {
      "cell_type": "code",
      "source": [
        "crawl_and_extract_links(baseURL, 0)\n",
        "allLinks = list(set(allLinks))\n",
        "allLinks.append(baseURL)\n",
        "print(\"Extracted Links size:\" + str(len(allLinks)))\n",
        "\n",
        "# for link in allLinks:\n",
        "#    print(link)"
      ],
      "metadata": {
        "id": "HEOUOmqvig05"
      },
      "execution_count": null,
      "outputs": []
    },
    {
      "cell_type": "markdown",
      "source": [
        "### Lets Extract Data"
      ],
      "metadata": {
        "id": "sR4bywD_mmgh"
      }
    },
    {
      "cell_type": "code",
      "source": [
        "for link in allLinks:\n",
        "    extract_text_from_webpage(link)"
      ],
      "metadata": {
        "id": "ZEn6s-DYml-6"
      },
      "execution_count": null,
      "outputs": []
    }
  ]
}